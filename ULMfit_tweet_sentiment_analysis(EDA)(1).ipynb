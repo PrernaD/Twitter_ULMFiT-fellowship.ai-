{
  "nbformat": 4,
  "nbformat_minor": 0,
  "metadata": {
    "colab": {
      "name": "ULMfit_tweet_sentiment_analysis(EDA).ipynb",
      "provenance": [],
      "collapsed_sections": [],
      "toc_visible": true
    },
    "kernelspec": {
      "name": "python3",
      "display_name": "Python 3"
    },
    "accelerator": "GPU"
  },
  "cells": [
    {
      "cell_type": "code",
      "metadata": {
        "id": "c4v23pRYQZIF",
        "colab_type": "code",
        "colab": {}
      },
      "source": [
        "# !pip install emoji\n",
        "import pandas as pd \n",
        "# import emoji\n",
        "import numpy as np\n",
        "import re\n",
        "import collections\n",
        "import matplotlib.pyplot as plt\n",
        "import seaborn as sns\n",
        "# Modeling, selection, and evaluation\n",
        "from fastai.text import *\n",
        "%matplotlib inline \n",
        "from sklearn.model_selection import train_test_split\n",
        "from sklearn.metrics import confusion_matrix, accuracy_score\n",
        "from sklearn.utils.multiclass import unique_labels\n",
        "from fastai.callbacks import *\n",
        "\n"
      ],
      "execution_count": 0,
      "outputs": []
    },
    {
      "cell_type": "markdown",
      "metadata": {
        "id": "7Hie_G3NjVA6",
        "colab_type": "text"
      },
      "source": [
        "# Overview\n",
        "This notebook explores the possibilities of using the Universal Language Model Fine-tuning (ULMFiT) to apply transfer learning for predicting sentiment of tweets from the Twitter US Airline Sentiment data. The given dataset is really small and hence starting with a pre-trained language model will same time and effort. \n",
        "This notebook is divided into the following three sections:\n",
        "\n",
        "1. **Exploratory Data Analysis:** This part would prove very useful in effectively pre-processing data. \n",
        "\n",
        "2. **Data Cleaning/Preprocessing:** Here I have performed some simple tasks such as removing HTML links and accents from the data. This would not follow some traditional procedures such as removing stop-words since the ULMFit language model has been pre-trained on data from Wikipedia. Removing stop-words, in this case, would be highly counter-productive. Also, I have also taken note of some mislabeled and ambiguous data in this step.\n",
        "\n",
        "3. **Fine-tuning the language model:** I am using the entire dataset including the mislabelled tweets here.\n",
        "\n",
        "4. **Training the classifier**: I have removed the ambiguous tweets before this step. The model has achieved a maximum accuracy of 85.7."
      ]
    },
    {
      "cell_type": "markdown",
      "metadata": {
        "id": "nzRT0MU-QWbw",
        "colab_type": "text"
      },
      "source": [
        "# EDA\n",
        "Exploratory data analysis is important to understand important characteristics of the data being dealt with which helps greatly when working on data pre-processing and cleaning.\n",
        "\n",
        "While exploring this dataset, the following were the most important conclusions drawn:\n",
        "1. The dataset is unbalanced with respect to target labels/sentiment: There's far more data for negative tweets than for positive or neutral tweets. \n",
        "2. The dataset is unbalanced with respect to airlines: We have really less data for tweets addressed to Virgin America. Tweets addressed to United appear most often in our dataset.\n",
        "3. Low confidence labels: It is to be noted that the data was labelled by hand according to crowdflower. There are many tweets which are labelled with low confidence values(not many people agreed with that label). Those tweets might be ambiguous or too sarcastic for even humans to understand. We need to take a look at this and clean data accordingly."
      ]
    },
    {
      "cell_type": "code",
      "metadata": {
        "id": "_TnVdSL6Z1uu",
        "colab_type": "code",
        "outputId": "f3e11292-6adb-40e8-b7d9-9b593a0843e3",
        "colab": {
          "resources": {
            "http://localhost:8080/nbextensions/google.colab/files.js": {
              "data": "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",
              "ok": true,
              "headers": [
                [
                  "content-type",
                  "application/javascript"
                ]
              ],
              "status": 200,
              "status_text": "OK"
            }
          },
          "base_uri": "https://localhost:8080/",
          "height": 83
        }
      },
      "source": [
        "from google.colab import files\n",
        "uploaded = files.upload()\n"
      ],
      "execution_count": 0,
      "outputs": [
        {
          "output_type": "display_data",
          "data": {
            "text/html": [
              "\n",
              "     <input type=\"file\" id=\"files-fe702f74-4a6e-44f7-b6a5-8e4e6ac6e6ca\" name=\"files[]\" multiple disabled />\n",
              "     <output id=\"result-fe702f74-4a6e-44f7-b6a5-8e4e6ac6e6ca\">\n",
              "      Upload widget is only available when the cell has been executed in the\n",
              "      current browser session. Please rerun this cell to enable.\n",
              "      </output>\n",
              "      <script src=\"/nbextensions/google.colab/files.js\"></script> "
            ],
            "text/plain": [
              "<IPython.core.display.HTML object>"
            ]
          },
          "metadata": {
            "tags": []
          }
        },
        {
          "output_type": "stream",
          "text": [
            "Saving Tweets.csv to Tweets.csv\n"
          ],
          "name": "stdout"
        }
      ]
    },
    {
      "cell_type": "code",
      "metadata": {
        "id": "NCHfKkq7S9Js",
        "colab_type": "code",
        "outputId": "f98438af-4c71-4fb6-cf84-f88afc7d77f3",
        "colab": {
          "base_uri": "https://localhost:8080/",
          "height": 34
        }
      },
      "source": [
        "#loading data\n",
        "df=pd.read_csv(\"Tweets.csv\")\n",
        "pd.set_option('display.max_colwidth',0) #so that entire tweets are displayed\n",
        "#checking the number of rows and columns of the dataset\n",
        "df.shape"
      ],
      "execution_count": 88,
      "outputs": [
        {
          "output_type": "execute_result",
          "data": {
            "text/plain": [
              "(14640, 15)"
            ]
          },
          "metadata": {
            "tags": []
          },
          "execution_count": 88
        }
      ]
    },
    {
      "cell_type": "markdown",
      "metadata": {
        "id": "_5qj6y_IQn5t",
        "colab_type": "text"
      },
      "source": [
        "Following are the six airlines we have data on:"
      ]
    },
    {
      "cell_type": "code",
      "metadata": {
        "id": "o-a-W4e0QnQD",
        "colab_type": "code",
        "outputId": "0905129b-17a3-4d6f-c46d-93e8a166254c",
        "colab": {
          "base_uri": "https://localhost:8080/",
          "height": 34
        }
      },
      "source": [
        "list(df['airline'].unique())"
      ],
      "execution_count": 89,
      "outputs": [
        {
          "output_type": "execute_result",
          "data": {
            "text/plain": [
              "['Virgin America', 'United', 'Southwest', 'Delta', 'US Airways', 'American']"
            ]
          },
          "metadata": {
            "tags": []
          },
          "execution_count": 89
        }
      ]
    },
    {
      "cell_type": "markdown",
      "metadata": {
        "id": "GLt9qZUrHA85",
        "colab_type": "text"
      },
      "source": [
        "The dataset is ordered based on airline name and hence df.head() would print data of only a single airline. Using df.sample() would give a better overview of the dataset."
      ]
    },
    {
      "cell_type": "code",
      "metadata": {
        "id": "JJ9-N4esTCkK",
        "colab_type": "code",
        "outputId": "69115fdf-a58b-4236-c891-7748070af7e0",
        "colab": {
          "base_uri": "https://localhost:8080/",
          "height": 851
        }
      },
      "source": [
        "df.sample(n=5)"
      ],
      "execution_count": 90,
      "outputs": [
        {
          "output_type": "execute_result",
          "data": {
            "text/html": [
              "<div>\n",
              "<style scoped>\n",
              "    .dataframe tbody tr th:only-of-type {\n",
              "        vertical-align: middle;\n",
              "    }\n",
              "\n",
              "    .dataframe tbody tr th {\n",
              "        vertical-align: top;\n",
              "    }\n",
              "\n",
              "    .dataframe thead th {\n",
              "        text-align: right;\n",
              "    }\n",
              "</style>\n",
              "<table border=\"1\" class=\"dataframe\">\n",
              "  <thead>\n",
              "    <tr style=\"text-align: right;\">\n",
              "      <th></th>\n",
              "      <th>tweet_id</th>\n",
              "      <th>airline_sentiment</th>\n",
              "      <th>airline_sentiment_confidence</th>\n",
              "      <th>negativereason</th>\n",
              "      <th>negativereason_confidence</th>\n",
              "      <th>airline</th>\n",
              "      <th>airline_sentiment_gold</th>\n",
              "      <th>name</th>\n",
              "      <th>negativereason_gold</th>\n",
              "      <th>retweet_count</th>\n",
              "      <th>text</th>\n",
              "      <th>tweet_coord</th>\n",
              "      <th>tweet_created</th>\n",
              "      <th>tweet_location</th>\n",
              "      <th>user_timezone</th>\n",
              "    </tr>\n",
              "  </thead>\n",
              "  <tbody>\n",
              "    <tr>\n",
              "      <th>13298</th>\n",
              "      <td>569894356393570304</td>\n",
              "      <td>negative</td>\n",
              "      <td>1.0</td>\n",
              "      <td>Customer Service Issue</td>\n",
              "      <td>0.6412</td>\n",
              "      <td>American</td>\n",
              "      <td>NaN</td>\n",
              "      <td>phesic86</td>\n",
              "      <td>NaN</td>\n",
              "      <td>0</td>\n",
              "      <td>@AmericanAir I tried already and I am on the waiting list for a call back #2hourwaitsucks</td>\n",
              "      <td>NaN</td>\n",
              "      <td>2015-02-23 08:19:37 -0800</td>\n",
              "      <td>NaN</td>\n",
              "      <td>NaN</td>\n",
              "    </tr>\n",
              "    <tr>\n",
              "      <th>10132</th>\n",
              "      <td>569526029859094528</td>\n",
              "      <td>negative</td>\n",
              "      <td>1.0</td>\n",
              "      <td>Customer Service Issue</td>\n",
              "      <td>0.6768</td>\n",
              "      <td>US Airways</td>\n",
              "      <td>NaN</td>\n",
              "      <td>vasisht</td>\n",
              "      <td>NaN</td>\n",
              "      <td>0</td>\n",
              "      <td>@USAirways @AmericanAir my friends are stranded at KPHL and the representatives there won't even give them food vouchers…any help please?</td>\n",
              "      <td>NaN</td>\n",
              "      <td>2015-02-22 07:56:01 -0800</td>\n",
              "      <td>A galaxy far far away</td>\n",
              "      <td>Eastern Time (US &amp; Canada)</td>\n",
              "    </tr>\n",
              "    <tr>\n",
              "      <th>1913</th>\n",
              "      <td>569523231524319232</td>\n",
              "      <td>negative</td>\n",
              "      <td>1.0</td>\n",
              "      <td>Customer Service Issue</td>\n",
              "      <td>0.6796</td>\n",
              "      <td>United</td>\n",
              "      <td>NaN</td>\n",
              "      <td>goldsteinmlg</td>\n",
              "      <td>NaN</td>\n",
              "      <td>0</td>\n",
              "      <td>@united. If you show available seats, you need to honor that! I shouldnt spend 1hr on phone to hear that \"really there are 3 not 4 seats\"</td>\n",
              "      <td>NaN</td>\n",
              "      <td>2015-02-22 07:44:54 -0800</td>\n",
              "      <td>NaN</td>\n",
              "      <td>NaN</td>\n",
              "    </tr>\n",
              "    <tr>\n",
              "      <th>4725</th>\n",
              "      <td>569898033128693760</td>\n",
              "      <td>neutral</td>\n",
              "      <td>1.0</td>\n",
              "      <td>NaN</td>\n",
              "      <td>NaN</td>\n",
              "      <td>Southwest</td>\n",
              "      <td>NaN</td>\n",
              "      <td>vovoci</td>\n",
              "      <td>NaN</td>\n",
              "      <td>0</td>\n",
              "      <td>@SouthwestAir : thanks.are flights operating now or Cancelled Flightled?</td>\n",
              "      <td>NaN</td>\n",
              "      <td>2015-02-23 08:34:13 -0800</td>\n",
              "      <td>NaN</td>\n",
              "      <td>NaN</td>\n",
              "    </tr>\n",
              "    <tr>\n",
              "      <th>1388</th>\n",
              "      <td>569747702981853185</td>\n",
              "      <td>negative</td>\n",
              "      <td>1.0</td>\n",
              "      <td>Cancelled Flight</td>\n",
              "      <td>0.6838</td>\n",
              "      <td>United</td>\n",
              "      <td>NaN</td>\n",
              "      <td>hilary33836700</td>\n",
              "      <td>NaN</td>\n",
              "      <td>0</td>\n",
              "      <td>@united after 2 days - 1 flight Cancelled Flightled, another delay for 8 hours- united gave me a $7 food voucher. That's how much they value my time??</td>\n",
              "      <td>NaN</td>\n",
              "      <td>2015-02-22 22:36:52 -0800</td>\n",
              "      <td>NaN</td>\n",
              "      <td>NaN</td>\n",
              "    </tr>\n",
              "  </tbody>\n",
              "</table>\n",
              "</div>"
            ],
            "text/plain": [
              "                 tweet_id  ...               user_timezone\n",
              "13298  569894356393570304  ...  NaN                       \n",
              "10132  569526029859094528  ...  Eastern Time (US & Canada)\n",
              "1913   569523231524319232  ...  NaN                       \n",
              "4725   569898033128693760  ...  NaN                       \n",
              "1388   569747702981853185  ...  NaN                       \n",
              "\n",
              "[5 rows x 15 columns]"
            ]
          },
          "metadata": {
            "tags": []
          },
          "execution_count": 90
        }
      ]
    },
    {
      "cell_type": "code",
      "metadata": {
        "id": "TzhuK-UwHz1_",
        "colab_type": "code",
        "colab": {}
      },
      "source": [
        "pd.set_option('display.max_colwidth',40) #for a neater display for the next few cells"
      ],
      "execution_count": 0,
      "outputs": []
    },
    {
      "cell_type": "markdown",
      "metadata": {
        "id": "OW6sFE-OoNxP",
        "colab_type": "text"
      },
      "source": [
        "\n",
        "\n",
        "---\n",
        "\n",
        "\n",
        "\n",
        "Among the columns, negativereason_gold and airline_sentiment_gold cannot be easily interpreted from their names. \n",
        "It seems like negativereason_gold contains negative reasons in case there is a secondary reason for the complaint. Although, mostly both these columns hold the same values. airline_sentiment_gold always contains the same values as airline_sentiment and hence is a duplicate column.\n",
        "\n",
        "\n",
        "\n",
        "\n"
      ]
    },
    {
      "cell_type": "code",
      "metadata": {
        "id": "hMwthie9otcz",
        "colab_type": "code",
        "outputId": "ab4185ac-bc29-4ecd-f627-22cd298a4b33",
        "colab": {
          "base_uri": "https://localhost:8080/",
          "height": 591
        }
      },
      "source": [
        "df[~df.negativereason_gold.isnull()].head(5)"
      ],
      "execution_count": 92,
      "outputs": [
        {
          "output_type": "execute_result",
          "data": {
            "text/html": [
              "<div>\n",
              "<style scoped>\n",
              "    .dataframe tbody tr th:only-of-type {\n",
              "        vertical-align: middle;\n",
              "    }\n",
              "\n",
              "    .dataframe tbody tr th {\n",
              "        vertical-align: top;\n",
              "    }\n",
              "\n",
              "    .dataframe thead th {\n",
              "        text-align: right;\n",
              "    }\n",
              "</style>\n",
              "<table border=\"1\" class=\"dataframe\">\n",
              "  <thead>\n",
              "    <tr style=\"text-align: right;\">\n",
              "      <th></th>\n",
              "      <th>tweet_id</th>\n",
              "      <th>airline_sentiment</th>\n",
              "      <th>airline_sentiment_confidence</th>\n",
              "      <th>negativereason</th>\n",
              "      <th>negativereason_confidence</th>\n",
              "      <th>airline</th>\n",
              "      <th>airline_sentiment_gold</th>\n",
              "      <th>name</th>\n",
              "      <th>negativereason_gold</th>\n",
              "      <th>retweet_count</th>\n",
              "      <th>text</th>\n",
              "      <th>tweet_coord</th>\n",
              "      <th>tweet_created</th>\n",
              "      <th>tweet_location</th>\n",
              "      <th>user_timezone</th>\n",
              "    </tr>\n",
              "  </thead>\n",
              "  <tbody>\n",
              "    <tr>\n",
              "      <th>1286</th>\n",
              "      <td>569851578276048896</td>\n",
              "      <td>negative</td>\n",
              "      <td>1.0000</td>\n",
              "      <td>Late Flight</td>\n",
              "      <td>0.7684</td>\n",
              "      <td>United</td>\n",
              "      <td>negative</td>\n",
              "      <td>MrEschatologist</td>\n",
              "      <td>Late Flight\\nFlight Attendant Compla...</td>\n",
              "      <td>0</td>\n",
              "      <td>@united I'm aware of the flight deta...</td>\n",
              "      <td>NaN</td>\n",
              "      <td>2015-02-23 05:29:38 -0800</td>\n",
              "      <td>Arlington, VA</td>\n",
              "      <td>NaN</td>\n",
              "    </tr>\n",
              "    <tr>\n",
              "      <th>2017</th>\n",
              "      <td>569473998519578624</td>\n",
              "      <td>negative</td>\n",
              "      <td>1.0000</td>\n",
              "      <td>Late Flight</td>\n",
              "      <td>0.6048</td>\n",
              "      <td>United</td>\n",
              "      <td>negative</td>\n",
              "      <td>traceyabbywhite</td>\n",
              "      <td>Late Flight\\nLost Luggage</td>\n",
              "      <td>0</td>\n",
              "      <td>@united flighted delayed for hours. ...</td>\n",
              "      <td>NaN</td>\n",
              "      <td>2015-02-22 04:29:16 -0800</td>\n",
              "      <td>Atlantic Highlands, NJ</td>\n",
              "      <td>Eastern Time (US &amp; Canada)</td>\n",
              "    </tr>\n",
              "    <tr>\n",
              "      <th>2201</th>\n",
              "      <td>569318505755103232</td>\n",
              "      <td>negative</td>\n",
              "      <td>1.0000</td>\n",
              "      <td>Late Flight</td>\n",
              "      <td>0.6478</td>\n",
              "      <td>United</td>\n",
              "      <td>negative</td>\n",
              "      <td>tarlonious</td>\n",
              "      <td>Late Flight</td>\n",
              "      <td>1</td>\n",
              "      <td>@united it's been over 3 hours...at ...</td>\n",
              "      <td>NaN</td>\n",
              "      <td>2015-02-21 18:11:23 -0800</td>\n",
              "      <td>NaN</td>\n",
              "      <td>NaN</td>\n",
              "    </tr>\n",
              "    <tr>\n",
              "      <th>2383</th>\n",
              "      <td>569235954789015552</td>\n",
              "      <td>negative</td>\n",
              "      <td>0.9286</td>\n",
              "      <td>Customer Service Issue</td>\n",
              "      <td>0.9286</td>\n",
              "      <td>United</td>\n",
              "      <td>negative</td>\n",
              "      <td>screamingbrat</td>\n",
              "      <td>Customer Service Issue</td>\n",
              "      <td>0</td>\n",
              "      <td>@united You shouldn't page o'head th...</td>\n",
              "      <td>NaN</td>\n",
              "      <td>2015-02-21 12:43:22 -0800</td>\n",
              "      <td>new york, baby</td>\n",
              "      <td>Eastern Time (US &amp; Canada)</td>\n",
              "    </tr>\n",
              "    <tr>\n",
              "      <th>3005</th>\n",
              "      <td>568802013196242944</td>\n",
              "      <td>negative</td>\n",
              "      <td>1.0000</td>\n",
              "      <td>Can't Tell</td>\n",
              "      <td>0.6870</td>\n",
              "      <td>United</td>\n",
              "      <td>negative</td>\n",
              "      <td>katieclaytonn</td>\n",
              "      <td>Can't Tell</td>\n",
              "      <td>0</td>\n",
              "      <td>@united couldn't have possibly messe...</td>\n",
              "      <td>NaN</td>\n",
              "      <td>2015-02-20 07:59:02 -0800</td>\n",
              "      <td>NaN</td>\n",
              "      <td>Central Time (US &amp; Canada)</td>\n",
              "    </tr>\n",
              "  </tbody>\n",
              "</table>\n",
              "</div>"
            ],
            "text/plain": [
              "                tweet_id  ...               user_timezone\n",
              "1286  569851578276048896  ...                         NaN\n",
              "2017  569473998519578624  ...  Eastern Time (US & Canada)\n",
              "2201  569318505755103232  ...                         NaN\n",
              "2383  569235954789015552  ...  Eastern Time (US & Canada)\n",
              "3005  568802013196242944  ...  Central Time (US & Canada)\n",
              "\n",
              "[5 rows x 15 columns]"
            ]
          },
          "metadata": {
            "tags": []
          },
          "execution_count": 92
        }
      ]
    },
    {
      "cell_type": "code",
      "metadata": {
        "id": "bHWOBbmqqPyy",
        "colab_type": "code",
        "outputId": "e8b9553c-035a-403c-a557-32d63550deb8",
        "colab": {
          "base_uri": "https://localhost:8080/",
          "height": 556
        }
      },
      "source": [
        "df[~df.airline_sentiment_gold.isnull()].head()"
      ],
      "execution_count": 93,
      "outputs": [
        {
          "output_type": "execute_result",
          "data": {
            "text/html": [
              "<div>\n",
              "<style scoped>\n",
              "    .dataframe tbody tr th:only-of-type {\n",
              "        vertical-align: middle;\n",
              "    }\n",
              "\n",
              "    .dataframe tbody tr th {\n",
              "        vertical-align: top;\n",
              "    }\n",
              "\n",
              "    .dataframe thead th {\n",
              "        text-align: right;\n",
              "    }\n",
              "</style>\n",
              "<table border=\"1\" class=\"dataframe\">\n",
              "  <thead>\n",
              "    <tr style=\"text-align: right;\">\n",
              "      <th></th>\n",
              "      <th>tweet_id</th>\n",
              "      <th>airline_sentiment</th>\n",
              "      <th>airline_sentiment_confidence</th>\n",
              "      <th>negativereason</th>\n",
              "      <th>negativereason_confidence</th>\n",
              "      <th>airline</th>\n",
              "      <th>airline_sentiment_gold</th>\n",
              "      <th>name</th>\n",
              "      <th>negativereason_gold</th>\n",
              "      <th>retweet_count</th>\n",
              "      <th>text</th>\n",
              "      <th>tweet_coord</th>\n",
              "      <th>tweet_created</th>\n",
              "      <th>tweet_location</th>\n",
              "      <th>user_timezone</th>\n",
              "    </tr>\n",
              "  </thead>\n",
              "  <tbody>\n",
              "    <tr>\n",
              "      <th>1286</th>\n",
              "      <td>569851578276048896</td>\n",
              "      <td>negative</td>\n",
              "      <td>1.0000</td>\n",
              "      <td>Late Flight</td>\n",
              "      <td>0.7684</td>\n",
              "      <td>United</td>\n",
              "      <td>negative</td>\n",
              "      <td>MrEschatologist</td>\n",
              "      <td>Late Flight\\nFlight Attendant Compla...</td>\n",
              "      <td>0</td>\n",
              "      <td>@united I'm aware of the flight deta...</td>\n",
              "      <td>NaN</td>\n",
              "      <td>2015-02-23 05:29:38 -0800</td>\n",
              "      <td>Arlington, VA</td>\n",
              "      <td>NaN</td>\n",
              "    </tr>\n",
              "    <tr>\n",
              "      <th>2017</th>\n",
              "      <td>569473998519578624</td>\n",
              "      <td>negative</td>\n",
              "      <td>1.0000</td>\n",
              "      <td>Late Flight</td>\n",
              "      <td>0.6048</td>\n",
              "      <td>United</td>\n",
              "      <td>negative</td>\n",
              "      <td>traceyabbywhite</td>\n",
              "      <td>Late Flight\\nLost Luggage</td>\n",
              "      <td>0</td>\n",
              "      <td>@united flighted delayed for hours. ...</td>\n",
              "      <td>NaN</td>\n",
              "      <td>2015-02-22 04:29:16 -0800</td>\n",
              "      <td>Atlantic Highlands, NJ</td>\n",
              "      <td>Eastern Time (US &amp; Canada)</td>\n",
              "    </tr>\n",
              "    <tr>\n",
              "      <th>2135</th>\n",
              "      <td>569343661063823360</td>\n",
              "      <td>neutral</td>\n",
              "      <td>1.0000</td>\n",
              "      <td>NaN</td>\n",
              "      <td>NaN</td>\n",
              "      <td>United</td>\n",
              "      <td>neutral</td>\n",
              "      <td>aushianya</td>\n",
              "      <td>NaN</td>\n",
              "      <td>0</td>\n",
              "      <td>@united I have a question</td>\n",
              "      <td>NaN</td>\n",
              "      <td>2015-02-21 19:51:21 -0800</td>\n",
              "      <td>NaN</td>\n",
              "      <td>NaN</td>\n",
              "    </tr>\n",
              "    <tr>\n",
              "      <th>2201</th>\n",
              "      <td>569318505755103232</td>\n",
              "      <td>negative</td>\n",
              "      <td>1.0000</td>\n",
              "      <td>Late Flight</td>\n",
              "      <td>0.6478</td>\n",
              "      <td>United</td>\n",
              "      <td>negative</td>\n",
              "      <td>tarlonious</td>\n",
              "      <td>Late Flight</td>\n",
              "      <td>1</td>\n",
              "      <td>@united it's been over 3 hours...at ...</td>\n",
              "      <td>NaN</td>\n",
              "      <td>2015-02-21 18:11:23 -0800</td>\n",
              "      <td>NaN</td>\n",
              "      <td>NaN</td>\n",
              "    </tr>\n",
              "    <tr>\n",
              "      <th>2383</th>\n",
              "      <td>569235954789015552</td>\n",
              "      <td>negative</td>\n",
              "      <td>0.9286</td>\n",
              "      <td>Customer Service Issue</td>\n",
              "      <td>0.9286</td>\n",
              "      <td>United</td>\n",
              "      <td>negative</td>\n",
              "      <td>screamingbrat</td>\n",
              "      <td>Customer Service Issue</td>\n",
              "      <td>0</td>\n",
              "      <td>@united You shouldn't page o'head th...</td>\n",
              "      <td>NaN</td>\n",
              "      <td>2015-02-21 12:43:22 -0800</td>\n",
              "      <td>new york, baby</td>\n",
              "      <td>Eastern Time (US &amp; Canada)</td>\n",
              "    </tr>\n",
              "  </tbody>\n",
              "</table>\n",
              "</div>"
            ],
            "text/plain": [
              "                tweet_id  ...               user_timezone\n",
              "1286  569851578276048896  ...                         NaN\n",
              "2017  569473998519578624  ...  Eastern Time (US & Canada)\n",
              "2135  569343661063823360  ...                         NaN\n",
              "2201  569318505755103232  ...                         NaN\n",
              "2383  569235954789015552  ...  Eastern Time (US & Canada)\n",
              "\n",
              "[5 rows x 15 columns]"
            ]
          },
          "metadata": {
            "tags": []
          },
          "execution_count": 93
        }
      ]
    },
    {
      "cell_type": "code",
      "metadata": {
        "id": "VPnec37uqPtB",
        "colab_type": "code",
        "outputId": "1f6a04a9-5d96-455c-ea99-8c81476fd192",
        "colab": {
          "base_uri": "https://localhost:8080/",
          "height": 104
        }
      },
      "source": [
        "df[~df.airline_sentiment_gold.isnull()][df.airline_sentiment_gold!=df.airline_sentiment].head()"
      ],
      "execution_count": 94,
      "outputs": [
        {
          "output_type": "stream",
          "text": [
            "/usr/local/lib/python3.6/dist-packages/ipykernel_launcher.py:1: UserWarning: Boolean Series key will be reindexed to match DataFrame index.\n",
            "  \"\"\"Entry point for launching an IPython kernel.\n"
          ],
          "name": "stderr"
        },
        {
          "output_type": "execute_result",
          "data": {
            "text/html": [
              "<div>\n",
              "<style scoped>\n",
              "    .dataframe tbody tr th:only-of-type {\n",
              "        vertical-align: middle;\n",
              "    }\n",
              "\n",
              "    .dataframe tbody tr th {\n",
              "        vertical-align: top;\n",
              "    }\n",
              "\n",
              "    .dataframe thead th {\n",
              "        text-align: right;\n",
              "    }\n",
              "</style>\n",
              "<table border=\"1\" class=\"dataframe\">\n",
              "  <thead>\n",
              "    <tr style=\"text-align: right;\">\n",
              "      <th></th>\n",
              "      <th>tweet_id</th>\n",
              "      <th>airline_sentiment</th>\n",
              "      <th>airline_sentiment_confidence</th>\n",
              "      <th>negativereason</th>\n",
              "      <th>negativereason_confidence</th>\n",
              "      <th>airline</th>\n",
              "      <th>airline_sentiment_gold</th>\n",
              "      <th>name</th>\n",
              "      <th>negativereason_gold</th>\n",
              "      <th>retweet_count</th>\n",
              "      <th>text</th>\n",
              "      <th>tweet_coord</th>\n",
              "      <th>tweet_created</th>\n",
              "      <th>tweet_location</th>\n",
              "      <th>user_timezone</th>\n",
              "    </tr>\n",
              "  </thead>\n",
              "  <tbody>\n",
              "  </tbody>\n",
              "</table>\n",
              "</div>"
            ],
            "text/plain": [
              "Empty DataFrame\n",
              "Columns: [tweet_id, airline_sentiment, airline_sentiment_confidence, negativereason, negativereason_confidence, airline, airline_sentiment_gold, name, negativereason_gold, retweet_count, text, tweet_coord, tweet_created, tweet_location, user_timezone]\n",
              "Index: []"
            ]
          },
          "metadata": {
            "tags": []
          },
          "execution_count": 94
        }
      ]
    },
    {
      "cell_type": "markdown",
      "metadata": {
        "id": "z0B6m02RrR_n",
        "colab_type": "text"
      },
      "source": [
        "\n",
        "\n",
        "---\n",
        "\n",
        "\n",
        "negativereason_gold, airline_sentiment_gold and tweet_coord columns are pretty much empty and hence useless in any analysis. Also they contain mostly redundant information. I will be excluding these columns for further analysis.\n",
        "\n"
      ]
    },
    {
      "cell_type": "code",
      "metadata": {
        "id": "EddkHK53rR2q",
        "colab_type": "code",
        "outputId": "ca105144-f36d-4a7f-d00d-5a82decf192e",
        "colab": {
          "base_uri": "https://localhost:8080/",
          "height": 295
        }
      },
      "source": [
        "df.isnull().sum()*100/df.shape[0]"
      ],
      "execution_count": 95,
      "outputs": [
        {
          "output_type": "execute_result",
          "data": {
            "text/plain": [
              "tweet_id                         0.000000\n",
              "airline_sentiment                0.000000\n",
              "airline_sentiment_confidence     0.000000\n",
              "negativereason                  37.308743\n",
              "negativereason_confidence       28.128415\n",
              "airline                          0.000000\n",
              "airline_sentiment_gold          99.726776\n",
              "name                             0.000000\n",
              "negativereason_gold             99.781421\n",
              "retweet_count                    0.000000\n",
              "text                             0.000000\n",
              "tweet_coord                     93.039617\n",
              "tweet_created                    0.000000\n",
              "tweet_location                  32.329235\n",
              "user_timezone                   32.923497\n",
              "dtype: float64"
            ]
          },
          "metadata": {
            "tags": []
          },
          "execution_count": 95
        }
      ]
    },
    {
      "cell_type": "markdown",
      "metadata": {
        "id": "Ds4CiJuyuA7g",
        "colab_type": "text"
      },
      "source": [
        "\n",
        "\n",
        "---\n",
        "\n",
        "\n",
        "\n",
        "A huge chunk of the data comprises of tweets labelled as negative. This would create a problem in future regarding predicting labels for positive and neutral tweets. Hence, we are bound to have a much better accuracy score for negative labels as compared to positive and neutral irrespective of the method used for classification."
      ]
    },
    {
      "cell_type": "code",
      "metadata": {
        "id": "sNs8Uj55MyJy",
        "colab_type": "code",
        "outputId": "021b425d-65c0-40b1-9047-c11887f6757e",
        "colab": {
          "base_uri": "https://localhost:8080/",
          "height": 86
        }
      },
      "source": [
        "df['airline_sentiment'].value_counts()\n"
      ],
      "execution_count": 96,
      "outputs": [
        {
          "output_type": "execute_result",
          "data": {
            "text/plain": [
              "negative    9178\n",
              "neutral     3099\n",
              "positive    2363\n",
              "Name: airline_sentiment, dtype: int64"
            ]
          },
          "metadata": {
            "tags": []
          },
          "execution_count": 96
        }
      ]
    },
    {
      "cell_type": "code",
      "metadata": {
        "id": "hRgnpdq9t_tG",
        "colab_type": "code",
        "outputId": "61fe396c-14af-43b8-85cd-62f33096d75f",
        "colab": {
          "base_uri": "https://localhost:8080/",
          "height": 316
        }
      },
      "source": [
        "df['airline_sentiment'].value_counts().plot(kind='bar')"
      ],
      "execution_count": 97,
      "outputs": [
        {
          "output_type": "execute_result",
          "data": {
            "text/plain": [
              "<matplotlib.axes._subplots.AxesSubplot at 0x7f4edc5862e8>"
            ]
          },
          "metadata": {
            "tags": []
          },
          "execution_count": 97
        },
        {
          "output_type": "display_data",
          "data": {
            "image/png": "[encoded data removed]",
            "text/plain": [
              "<Figure size 432x288 with 1 Axes>"
            ]
          },
          "metadata": {
            "tags": []
          }
        }
      ]
    },
    {
      "cell_type": "markdown",
      "metadata": {
        "id": "LgOd4fFZujBb",
        "colab_type": "text"
      },
      "source": [
        "\n",
        "\n",
        "---\n",
        "\n",
        "\n",
        "\n",
        "\n",
        "\n",
        "In the given dataset, the most number of tweets were addressed to United whereas Virgin America appears least often and by a huge margin.\n",
        "Also, for most airlines, negative tweets are far more than positive or neutral tweets. United, US Airways and American seem to have a much higher ratio of negative tweets.\n",
        "Hence, in future, we need to keep in mind that our model's analysis should not be influenced by the airline's mention(twitter handle) in the tweet.\n"
      ]
    },
    {
      "cell_type": "code",
      "metadata": {
        "id": "9xfzACuaTYZL",
        "colab_type": "code",
        "outputId": "b038f20f-a2c1-4a67-c560-73f11bc436a8",
        "colab": {
          "base_uri": "https://localhost:8080/",
          "height": 349
        }
      },
      "source": [
        "df['airline'].value_counts().plot(kind='bar')"
      ],
      "execution_count": 98,
      "outputs": [
        {
          "output_type": "execute_result",
          "data": {
            "text/plain": [
              "<matplotlib.axes._subplots.AxesSubplot at 0x7f4edc57c9e8>"
            ]
          },
          "metadata": {
            "tags": []
          },
          "execution_count": 98
        },
        {
          "output_type": "display_data",
          "data": {
            "image/png": "[encoded data removed]",
            "text/plain": [
              "<Figure size 432x288 with 1 Axes>"
            ]
          },
          "metadata": {
            "tags": []
          }
        }
      ]
    },
    {
      "cell_type": "code",
      "metadata": {
        "id": "nXYoNLK_Uu9n",
        "colab_type": "code",
        "outputId": "af2eb229-07c2-4da1-e36e-f1429279bc0f",
        "colab": {
          "base_uri": "https://localhost:8080/",
          "height": 360
        }
      },
      "source": [
        "df.groupby(['airline','airline_sentiment']).size().unstack().plot(kind='bar')"
      ],
      "execution_count": 99,
      "outputs": [
        {
          "output_type": "execute_result",
          "data": {
            "text/plain": [
              "<matplotlib.axes._subplots.AxesSubplot at 0x7f4edc586dd8>"
            ]
          },
          "metadata": {
            "tags": []
          },
          "execution_count": 99
        },
        {
          "output_type": "display_data",
          "data": {
            "image/png": "[encoded data removed]",
            "text/plain": [
              "<Figure size 432x288 with 1 Axes>"
            ]
          },
          "metadata": {
            "tags": []
          }
        }
      ]
    },
    {
      "cell_type": "markdown",
      "metadata": {
        "id": "8NnKPedsu_T0",
        "colab_type": "text"
      },
      "source": [
        "\n",
        "\n",
        "---\n",
        "\n",
        "\n",
        "We have lengthier tweets in case of negative tweets. i.e a higher proportion of negative tweets fall in the range of 120-140 word length. However, the number of tweets also peaks for neutral and positive tweets in the 120-140 word range. Given that we have relatively less data for positive and neutral tweets, it would be wrong to conclude that negative tweets are longer. \n",
        "\n",
        "Further analysis by taking random, equal-sized samples of all three labels shows that negative tweets do tend to be longer than neutral and positive tweets."
      ]
    },
    {
      "cell_type": "code",
      "metadata": {
        "id": "WWIu0967ee0o",
        "colab_type": "code",
        "outputId": "fd83fcac-20b5-4d84-acfe-42d117109b45",
        "colab": {
          "base_uri": "https://localhost:8080/",
          "height": 297
        }
      },
      "source": [
        "df['tweet_length'] = df['text'].apply(len)\n",
        "df.groupby(['tweet_length', 'airline_sentiment']).size().unstack().plot()"
      ],
      "execution_count": 100,
      "outputs": [
        {
          "output_type": "execute_result",
          "data": {
            "text/plain": [
              "<matplotlib.axes._subplots.AxesSubplot at 0x7f4edccc99e8>"
            ]
          },
          "metadata": {
            "tags": []
          },
          "execution_count": 100
        },
        {
          "output_type": "display_data",
          "data": {
            "image/png": "[encoded data removed]",
            "text/plain": [
              "<Figure size 432x288 with 1 Axes>"
            ]
          },
          "metadata": {
            "tags": []
          }
        }
      ]
    },
    {
      "cell_type": "code",
      "metadata": {
        "id": "y1LbYRvYLXzF",
        "colab_type": "code",
        "outputId": "10d6570b-c321-414d-b85b-7aac33eae9b8",
        "colab": {
          "base_uri": "https://localhost:8080/",
          "height": 297
        }
      },
      "source": [
        "df[df.airline_sentiment=='neutral'].sample(2000).groupby(['tweet_length']).size().plot()"
      ],
      "execution_count": 101,
      "outputs": [
        {
          "output_type": "execute_result",
          "data": {
            "text/plain": [
              "<matplotlib.axes._subplots.AxesSubplot at 0x7f4edc5a1550>"
            ]
          },
          "metadata": {
            "tags": []
          },
          "execution_count": 101
        },
        {
          "output_type": "display_data",
          "data": {
            "image/png": "[encoded data removed]",
            "text/plain": [
              "<Figure size 432x288 with 1 Axes>"
            ]
          },
          "metadata": {
            "tags": []
          }
        }
      ]
    },
    {
      "cell_type": "code",
      "metadata": {
        "id": "iyFmLa4ONS_q",
        "colab_type": "code",
        "outputId": "b30b355d-04b4-4358-e079-704c1afe585b",
        "colab": {
          "base_uri": "https://localhost:8080/",
          "height": 297
        }
      },
      "source": [
        "df[df.airline_sentiment=='negative'].sample(2000).groupby(['tweet_length']).size().plot()"
      ],
      "execution_count": 102,
      "outputs": [
        {
          "output_type": "execute_result",
          "data": {
            "text/plain": [
              "<matplotlib.axes._subplots.AxesSubplot at 0x7f4edcce92b0>"
            ]
          },
          "metadata": {
            "tags": []
          },
          "execution_count": 102
        },
        {
          "output_type": "display_data",
          "data": {
            "image/png": "[encoded data removed]",
            "text/plain": [
              "<Figure size 432x288 with 1 Axes>"
            ]
          },
          "metadata": {
            "tags": []
          }
        }
      ]
    },
    {
      "cell_type": "code",
      "metadata": {
        "id": "IeAnanRmNTms",
        "colab_type": "code",
        "outputId": "feecd4dd-e576-4048-8e6b-6a9f99432556",
        "colab": {
          "base_uri": "https://localhost:8080/",
          "height": 297
        }
      },
      "source": [
        "df[df.airline_sentiment=='positive'].sample(2000).groupby(['tweet_length']).size().plot()"
      ],
      "execution_count": 103,
      "outputs": [
        {
          "output_type": "execute_result",
          "data": {
            "text/plain": [
              "<matplotlib.axes._subplots.AxesSubplot at 0x7f4edccf2860>"
            ]
          },
          "metadata": {
            "tags": []
          },
          "execution_count": 103
        },
        {
          "output_type": "display_data",
          "data": {
            "image/png": "[encoded data removed]",
            "text/plain": [
              "<Figure size 432x288 with 1 Axes>"
            ]
          },
          "metadata": {
            "tags": []
          }
        }
      ]
    },
    {
      "cell_type": "markdown",
      "metadata": {
        "id": "p5WWGwprwAwr",
        "colab_type": "text"
      },
      "source": [
        "\n",
        "\n",
        "\n",
        "---\n",
        "\n",
        "\n",
        "Tweet length seems to not affect the confidence level of the tweet label. Although from this graph, we can see that neutral and positive tweets have been classified with a slightly lower confidence value, the difference is too small."
      ]
    },
    {
      "cell_type": "code",
      "metadata": {
        "id": "6EGVR_eNP1S7",
        "colab_type": "code",
        "outputId": "e8bb9f52-7edf-4c5e-e0d5-8828c3d950ea",
        "colab": {
          "base_uri": "https://localhost:8080/",
          "height": 297
        }
      },
      "source": [
        "df[['tweet_length', 'airline_sentiment', 'airline_sentiment_confidence']].groupby(['tweet_length', 'airline_sentiment']).mean().unstack().plot(kind='line', stacked=False)"
      ],
      "execution_count": 104,
      "outputs": [
        {
          "output_type": "execute_result",
          "data": {
            "text/plain": [
              "<matplotlib.axes._subplots.AxesSubplot at 0x7f4edcd575f8>"
            ]
          },
          "metadata": {
            "tags": []
          },
          "execution_count": 104
        },
        {
          "output_type": "display_data",
          "data": {
            "image/png": "[encoded data removed]",
            "text/plain": [
              "<Figure size 432x288 with 1 Axes>"
            ]
          },
          "metadata": {
            "tags": []
          }
        }
      ]
    },
    {
      "cell_type": "markdown",
      "metadata": {
        "id": "qfo2Ix3Tt2N3",
        "colab_type": "text"
      },
      "source": [
        "\n",
        "## Negative reason\n",
        "\n",
        "The leading cause of complaints are Customer service issues followed by late flights."
      ]
    },
    {
      "cell_type": "code",
      "metadata": {
        "id": "Z5U-iz1Ltr4y",
        "colab_type": "code",
        "outputId": "5723d34d-302e-4632-8e4c-3695248c8dec",
        "colab": {
          "base_uri": "https://localhost:8080/",
          "height": 413
        }
      },
      "source": [
        "df['negativereason'].value_counts().plot(kind='bar')"
      ],
      "execution_count": 105,
      "outputs": [
        {
          "output_type": "execute_result",
          "data": {
            "text/plain": [
              "<matplotlib.axes._subplots.AxesSubplot at 0x7f4edcd37550>"
            ]
          },
          "metadata": {
            "tags": []
          },
          "execution_count": 105
        },
        {
          "output_type": "display_data",
          "data": {
            "image/png": "[encoded data removed]",
            "text/plain": [
              "<Figure size 432x288 with 1 Axes>"
            ]
          },
          "metadata": {
            "tags": []
          }
        }
      ]
    },
    {
      "cell_type": "markdown",
      "metadata": {
        "id": "PB3_QgQeSYux",
        "colab_type": "text"
      },
      "source": [
        "Finding the leading causes of complaint for each airline"
      ]
    },
    {
      "cell_type": "code",
      "metadata": {
        "id": "sIjjcMTjSYYI",
        "colab_type": "code",
        "colab": {}
      },
      "source": [
        "airlines=list(df['airline'].unique())"
      ],
      "execution_count": 0,
      "outputs": []
    },
    {
      "cell_type": "code",
      "metadata": {
        "id": "jNqtS2SASMkO",
        "colab_type": "code",
        "outputId": "a1161cc1-fd26-4958-b7c0-60264be3b721",
        "colab": {
          "base_uri": "https://localhost:8080/",
          "height": 34
        }
      },
      "source": [
        "airlines"
      ],
      "execution_count": 107,
      "outputs": [
        {
          "output_type": "execute_result",
          "data": {
            "text/plain": [
              "['Virgin America', 'United', 'Southwest', 'Delta', 'US Airways', 'American']"
            ]
          },
          "metadata": {
            "tags": []
          },
          "execution_count": 107
        }
      ]
    },
    {
      "cell_type": "code",
      "metadata": {
        "id": "k-KY-9hTSMdD",
        "colab_type": "code",
        "outputId": "78757d91-12d7-4116-c505-4ad7c5f36471",
        "colab": {
          "base_uri": "https://localhost:8080/",
          "height": 1000
        }
      },
      "source": [
        "for airline in airlines:\n",
        "  df[df.airline==airline].negativereason.value_counts().plot(kind='bar',title=airline)\n",
        "  plt.show()"
      ],
      "execution_count": 108,
      "outputs": [
        {
          "output_type": "display_data",
          "data": {
            "image/png": "[encoded data removed]",
            "text/plain": [
              "<Figure size 432x288 with 1 Axes>"
            ]
          },
          "metadata": {
            "tags": []
          }
        },
        {
          "output_type": "display_data",
          "data": {
            "image/png": "[encoded data removed]",
            "text/plain": [
              "<Figure size 432x288 with 1 Axes>"
            ]
          },
          "metadata": {
            "tags": []
          }
        },
        {
          "output_type": "display_data",
          "data": {
            "image/png": "[encoded data removed]",
            "text/plain": [
              "<Figure size 432x288 with 1 Axes>"
            ]
          },
          "metadata": {
            "tags": []
          }
        },
        {
          "output_type": "display_data",
          "data": {
            "image/png": "[encoded data removed]",
            "text/plain": [
              "<Figure size 432x288 with 1 Axes>"
            ]
          },
          "metadata": {
            "tags": []
          }
        },
        {
          "output_type": "display_data",
          "data": {
            "image/png": "[encoded data removed]",
            "text/plain": [
              "<Figure size 432x288 with 1 Axes>"
            ]
          },
          "metadata": {
            "tags": []
          }
        },
        {
          "output_type": "display_data",
          "data": {
            "image/png": "[encoded data removed]",
            "text/plain": [
              "<Figure size 432x288 with 1 Axes>"
            ]
          },
          "metadata": {
            "tags": []
          }
        }
      ]
    },
    {
      "cell_type": "markdown",
      "metadata": {
        "id": "p3VJqGoZdOlm",
        "colab_type": "text"
      },
      "source": [
        "1. Delta is the only airline receiving the most complaints about a reason other than customer service, i.e. late flights.\n",
        "2. Overall, the negative reasons statistics follow a similar pattern when it comes to the number of complaints pertaining to each topic.\n",
        "3. Virgin America got the least complaints regarding late flights."
      ]
    },
    {
      "cell_type": "markdown",
      "metadata": {
        "id": "0NaC1kDRwgvR",
        "colab_type": "text"
      },
      "source": [
        "## Sentiment Confidence\n",
        "\n",
        "The data being used here was hand-labelled by multiple people and the airline_sentiment_confidence column represents the surety with which the label was allotted.\n",
        "\n",
        "Overall, most tweets are classified with high confidence. (=1)\n",
        "The second group of tweets are between 0.6 and 0.8 confidence values and the last group seems to be between 0.3 and 0.4 confidence."
      ]
    },
    {
      "cell_type": "code",
      "metadata": {
        "id": "EQfltbQzQqnZ",
        "colab_type": "code",
        "outputId": "3072a935-a18d-4640-b177-0d4c035fe58f",
        "colab": {
          "base_uri": "https://localhost:8080/",
          "height": 265
        }
      },
      "source": [
        "plt.hist(df.airline_sentiment_confidence, bins=np.linspace(0,1,101));"
      ],
      "execution_count": 109,
      "outputs": [
        {
          "output_type": "display_data",
          "data": {
            "image/png": "[encoded data removed]",
            "text/plain": [
              "<Figure size 432x288 with 1 Axes>"
            ]
          },
          "metadata": {
            "tags": []
          }
        }
      ]
    },
    {
      "cell_type": "markdown",
      "metadata": {
        "id": "Il_IjYi70iyR",
        "colab_type": "text"
      },
      "source": [
        "\n",
        "Positive and negative labelled tweets have a higher ratio of low confidence labels as compared to negative tweets. A higher ratio of neutral tweets seems to have been labelled with low confidence. \n",
        "I have explored this further in the next section to clean data."
      ]
    },
    {
      "cell_type": "code",
      "metadata": {
        "id": "hASuwn9vwwCS",
        "colab_type": "code",
        "outputId": "8144d31c-7cdc-44a7-d19a-ae5ba5dc0ff9",
        "colab": {
          "base_uri": "https://localhost:8080/",
          "height": 265
        }
      },
      "source": [
        "plt.hist(df[df.airline_sentiment=='negative'].airline_sentiment_confidence, bins=np.linspace(0,1,101))\n",
        "plt.show()\n"
      ],
      "execution_count": 110,
      "outputs": [
        {
          "output_type": "display_data",
          "data": {
            "image/png": "[encoded data removed]",
            "text/plain": [
              "<Figure size 432x288 with 1 Axes>"
            ]
          },
          "metadata": {
            "tags": []
          }
        }
      ]
    },
    {
      "cell_type": "code",
      "metadata": {
        "id": "c1bx40z-wv7j",
        "colab_type": "code",
        "outputId": "73e5f60d-0fe6-418f-b4cb-07b6967d942c",
        "colab": {
          "base_uri": "https://localhost:8080/",
          "height": 265
        }
      },
      "source": [
        "plt.hist(df[df.airline_sentiment=='positive'].airline_sentiment_confidence, bins=np.linspace(0,1,101))\n",
        "plt.show()\n"
      ],
      "execution_count": 111,
      "outputs": [
        {
          "output_type": "display_data",
          "data": {
            "image/png": "[encoded data removed]",
            "text/plain": [
              "<Figure size 432x288 with 1 Axes>"
            ]
          },
          "metadata": {
            "tags": []
          }
        }
      ]
    },
    {
      "cell_type": "code",
      "metadata": {
        "id": "8jgdZGXGwv0t",
        "colab_type": "code",
        "outputId": "9f70c6cc-1b7c-440d-ebc8-db3d417603ba",
        "colab": {
          "base_uri": "https://localhost:8080/",
          "height": 266
        }
      },
      "source": [
        "plt.hist(df[df.airline_sentiment=='neutral'].airline_sentiment_confidence, bins=np.linspace(0,1,101))\n",
        "plt.show()"
      ],
      "execution_count": 112,
      "outputs": [
        {
          "output_type": "display_data",
          "data": {
            "image/png": "[encoded data removed]",
            "text/plain": [
              "<Figure size 432x288 with 1 Axes>"
            ]
          },
          "metadata": {
            "tags": []
          }
        }
      ]
    },
    {
      "cell_type": "code",
      "metadata": {
        "id": "YoU-VM29ilVN",
        "colab_type": "code",
        "colab": {}
      },
      "source": [
        "pd.set_option('display.max_colwidth',0)\n"
      ],
      "execution_count": 0,
      "outputs": []
    },
    {
      "cell_type": "markdown",
      "metadata": {
        "id": "Ddpwhm3DZQVC",
        "colab_type": "text"
      },
      "source": [
        "# Data Quality Issues/Data Preprocessing"
      ]
    },
    {
      "cell_type": "markdown",
      "metadata": {
        "id": "BmPoMKo2jKBP",
        "colab_type": "text"
      },
      "source": [
        "Here, we need to consider the following:\n",
        "\n",
        "1. The model does not have any context: A tweet's interpretation may completely depend on the context it was written in. The context can be obtained by following a hyperlink included, knowing about a particular event being talked about, following the retweet/reply chain. Unless we implement a method for programmatically obtaining the context, these essentially ambiguous tweets should be excluded from classifier training.\n",
        "\n",
        "2. Understanding sarcasm is not easy: Often enough, even humans find it difficult to understand sarcasm. Hence, without any explicit negative/positive connotations, the classifier here might not be able to classify sarcasm. \n",
        "\n"
      ]
    },
    {
      "cell_type": "markdown",
      "metadata": {
        "id": "O5nIqM_0SjGt",
        "colab_type": "text"
      },
      "source": [
        "Let us first consider tweets between 0.2 and 0.4 confidence\n",
        "From the sample below:\n",
        "1. The first tweet is clearly mislabeled. Unless there was some context involved, it seems like a negative tweet.\n",
        "2. Some tweets like the tweet at index 183 cannot even be labelled neutral without having some context. There should either be an \"unclear\" label for such tweets.\n",
        "3. Without any context tweet at 309 seems to be a positive tweet.\n",
        "4. 403 is a sarcastic tweet and seems like a negative opinion.\n",
        "6. same goes for 509, 508, 679, 875\n",
        "\n",
        "The conclusion is that many tweets with less than 0.4 confidence are misclassified or unclear. "
      ]
    },
    {
      "cell_type": "code",
      "metadata": {
        "id": "liloHLo3QoAo",
        "colab_type": "code",
        "outputId": "9b5e05b2-9737-4416-e3e7-bfe9d1b5244b",
        "colab": {
          "base_uri": "https://localhost:8080/",
          "height": 677
        }
      },
      "source": [
        "df[df.airline_sentiment_confidence<=0.4][['airline_sentiment','text']].head(20)\n"
      ],
      "execution_count": 178,
      "outputs": [
        {
          "output_type": "execute_result",
          "data": {
            "text/html": [
              "<div>\n",
              "<style scoped>\n",
              "    .dataframe tbody tr th:only-of-type {\n",
              "        vertical-align: middle;\n",
              "    }\n",
              "\n",
              "    .dataframe tbody tr th {\n",
              "        vertical-align: top;\n",
              "    }\n",
              "\n",
              "    .dataframe thead th {\n",
              "        text-align: right;\n",
              "    }\n",
              "</style>\n",
              "<table border=\"1\" class=\"dataframe\">\n",
              "  <thead>\n",
              "    <tr style=\"text-align: right;\">\n",
              "      <th></th>\n",
              "      <th>airline_sentiment</th>\n",
              "      <th>text</th>\n",
              "    </tr>\n",
              "  </thead>\n",
              "  <tbody>\n",
              "    <tr>\n",
              "      <th>1</th>\n",
              "      <td>positive</td>\n",
              "      <td>@airline plus you've added commercials to the experience... tacky.</td>\n",
              "    </tr>\n",
              "    <tr>\n",
              "      <th>114</th>\n",
              "      <td>positive</td>\n",
              "      <td>@airline come back to PHL already. We need you to take us out of this horrible cold. pleasecomeback</td>\n",
              "    </tr>\n",
              "    <tr>\n",
              "      <th>142</th>\n",
              "      <td>neutral</td>\n",
              "      <td>@airline Can you find us a flt out of LAX that is sooner than midnight on Monday? That would be great customer service</td>\n",
              "    </tr>\n",
              "    <tr>\n",
              "      <th>183</th>\n",
              "      <td>positive</td>\n",
              "      <td>RT @airline: Youve met your match. Got status on another airline? Upgrade (+restr):</td>\n",
              "    </tr>\n",
              "    <tr>\n",
              "      <th>309</th>\n",
              "      <td>neutral</td>\n",
              "      <td>@airline is saving my sanity right now:</td>\n",
              "    </tr>\n",
              "    <tr>\n",
              "      <th>349</th>\n",
              "      <td>negative</td>\n",
              "      <td>@airline It's fine. Already done with my purchase. But you should try it. Just go most of the way through then go back 3</td>\n",
              "    </tr>\n",
              "    <tr>\n",
              "      <th>403</th>\n",
              "      <td>neutral</td>\n",
              "      <td>@airline Really? Sprint? I thought you guys were 'kewl'! 0_0</td>\n",
              "    </tr>\n",
              "    <tr>\n",
              "      <th>462</th>\n",
              "      <td>neutral</td>\n",
              "      <td>@airline YES FYI MY BFF</td>\n",
              "    </tr>\n",
              "    <tr>\n",
              "      <th>488</th>\n",
              "      <td>positive</td>\n",
              "      <td>@airline so loyal that I'm driving to NYC from PA, to fly Virgin, since you cut Philly flights ;)</td>\n",
              "    </tr>\n",
              "    <tr>\n",
              "      <th>495</th>\n",
              "      <td>negative</td>\n",
              "      <td>@airline my flight (6000) scheduled for 1pm departure still says on time but no plane at gate. Any update on how long of a delay?</td>\n",
              "    </tr>\n",
              "    <tr>\n",
              "      <th>508</th>\n",
              "      <td>positive</td>\n",
              "      <td>@airline thanks -- we filled it out. How's our luck with this? Is it common?</td>\n",
              "    </tr>\n",
              "    <tr>\n",
              "      <th>509</th>\n",
              "      <td>negative</td>\n",
              "      <td>@airline Your ERI-ORD express connections are hugely popular .. now if only we could have an ERI-EWR hop! :)</td>\n",
              "    </tr>\n",
              "    <tr>\n",
              "      <th>669</th>\n",
              "      <td>neutral</td>\n",
              "      <td>@airline Done and done</td>\n",
              "    </tr>\n",
              "    <tr>\n",
              "      <th>679</th>\n",
              "      <td>neutral</td>\n",
              "      <td>.Thnx for the response @airline bot. It seems this 'improvement' could be easily attained. Is your 1st Class service really only worth $50?</td>\n",
              "    </tr>\n",
              "    <tr>\n",
              "      <th>752</th>\n",
              "      <td>negative</td>\n",
              "      <td>@airline The bright side would be keeping the promise that was made to me. Hope you're having a good night. Thanks.</td>\n",
              "    </tr>\n",
              "    <tr>\n",
              "      <th>834</th>\n",
              "      <td>positive</td>\n",
              "      <td>@airline not just refunded, but for those of us who are on vacation to get a free room night to make up for making us sleep in DIA</td>\n",
              "    </tr>\n",
              "    <tr>\n",
              "      <th>872</th>\n",
              "      <td>negative</td>\n",
              "      <td>@airline He needs to get to home the 24th, they're telling him it'll be the 25th @ night. Is there compensation or anything that can be done?</td>\n",
              "    </tr>\n",
              "    <tr>\n",
              "      <th>875</th>\n",
              "      <td>negative</td>\n",
              "      <td>@airline Dmed you. Thank you</td>\n",
              "    </tr>\n",
              "    <tr>\n",
              "      <th>882</th>\n",
              "      <td>positive</td>\n",
              "      <td>@airline I left my comment with customer care. Thanks for contacting me.</td>\n",
              "    </tr>\n",
              "    <tr>\n",
              "      <th>904</th>\n",
              "      <td>neutral</td>\n",
              "      <td>Just sent thank u RT @airline: @goodenufmother Please DM your confirmation number if reFlight Booking Problems is needed. Thank you. ^EY</td>\n",
              "    </tr>\n",
              "  </tbody>\n",
              "</table>\n",
              "</div>"
            ],
            "text/plain": [
              "    airline_sentiment                                                                                                                                           text\n",
              "1    positive          @airline plus you've added commercials to the experience... tacky.                                                                           \n",
              "114  positive          @airline come back to PHL already. We need you to take us out of this horrible cold. pleasecomeback                                          \n",
              "142  neutral           @airline Can you find us a flt out of LAX that is sooner than midnight on Monday? That would be great customer service                       \n",
              "183  positive          RT @airline: Youve met your match. Got status on another airline? Upgrade (+restr):                                                          \n",
              "309  neutral           @airline is saving my sanity right now:                                                                                                      \n",
              "349  negative          @airline It's fine. Already done with my purchase. But you should try it. Just go most of the way through then go back 3                     \n",
              "403  neutral           @airline Really? Sprint? I thought you guys were 'kewl'! 0_0                                                                                 \n",
              "462  neutral           @airline YES FYI MY BFF                                                                                                                      \n",
              "488  positive          @airline so loyal that I'm driving to NYC from PA, to fly Virgin, since you cut Philly flights ;)                                            \n",
              "495  negative          @airline my flight (6000) scheduled for 1pm departure still says on time but no plane at gate. Any update on how long of a delay?            \n",
              "508  positive          @airline thanks -- we filled it out. How's our luck with this? Is it common?                                                                 \n",
              "509  negative          @airline Your ERI-ORD express connections are hugely popular .. now if only we could have an ERI-EWR hop! :)                                 \n",
              "669  neutral           @airline Done and done                                                                                                                       \n",
              "679  neutral           .Thnx for the response @airline bot. It seems this 'improvement' could be easily attained. Is your 1st Class service really only worth $50?  \n",
              "752  negative          @airline The bright side would be keeping the promise that was made to me. Hope you're having a good night. Thanks.                          \n",
              "834  positive          @airline not just refunded, but for those of us who are on vacation to get a free room night to make up for making us sleep in DIA           \n",
              "872  negative          @airline He needs to get to home the 24th, they're telling him it'll be the 25th @ night. Is there compensation or anything that can be done?\n",
              "875  negative          @airline Dmed you. Thank you                                                                                                                 \n",
              "882  positive          @airline I left my comment with customer care. Thanks for contacting me.                                                                     \n",
              "904  neutral           Just sent thank u RT @airline: @goodenufmother Please DM your confirmation number if reFlight Booking Problems is needed. Thank you. ^EY     "
            ]
          },
          "metadata": {
            "tags": []
          },
          "execution_count": 178
        }
      ]
    },
    {
      "cell_type": "markdown",
      "metadata": {
        "id": "L3iWbns4smTA",
        "colab_type": "text"
      },
      "source": [
        "Even here, various ambiguous examples can be spotted. In previous iterations, most wrong predictions were due to wrongly labeled tweets. We are not loosing too much data by dropping these but the model does show a higher accuracy especially towards neutral tweets by dropping these.\n",
        "Hence, I will remove tweets below 0.65 confidence."
      ]
    },
    {
      "cell_type": "code",
      "metadata": {
        "id": "a_W7GRXDrc6d",
        "colab_type": "code",
        "outputId": "67cdef55-9028-45d2-ab87-be6c988d1793",
        "colab": {
          "base_uri": "https://localhost:8080/",
          "height": 677
        }
      },
      "source": [
        "df[(df.airline_sentiment_confidence>0.4)|(df.airline_sentiment_confidence<0.65)][['airline_sentiment','text']].head(20)\n"
      ],
      "execution_count": 179,
      "outputs": [
        {
          "output_type": "execute_result",
          "data": {
            "text/html": [
              "<div>\n",
              "<style scoped>\n",
              "    .dataframe tbody tr th:only-of-type {\n",
              "        vertical-align: middle;\n",
              "    }\n",
              "\n",
              "    .dataframe tbody tr th {\n",
              "        vertical-align: top;\n",
              "    }\n",
              "\n",
              "    .dataframe thead th {\n",
              "        text-align: right;\n",
              "    }\n",
              "</style>\n",
              "<table border=\"1\" class=\"dataframe\">\n",
              "  <thead>\n",
              "    <tr style=\"text-align: right;\">\n",
              "      <th></th>\n",
              "      <th>airline_sentiment</th>\n",
              "      <th>text</th>\n",
              "    </tr>\n",
              "  </thead>\n",
              "  <tbody>\n",
              "    <tr>\n",
              "      <th>0</th>\n",
              "      <td>neutral</td>\n",
              "      <td>@airline What @dhepburn said.</td>\n",
              "    </tr>\n",
              "    <tr>\n",
              "      <th>1</th>\n",
              "      <td>positive</td>\n",
              "      <td>@airline plus you've added commercials to the experience... tacky.</td>\n",
              "    </tr>\n",
              "    <tr>\n",
              "      <th>2</th>\n",
              "      <td>neutral</td>\n",
              "      <td>@airline I didn't today... Must mean I need to take another trip!</td>\n",
              "    </tr>\n",
              "    <tr>\n",
              "      <th>3</th>\n",
              "      <td>negative</td>\n",
              "      <td>@airline it's really aggressive to blast obnoxious \"entertainment\" in your guests' faces &amp; they have little recourse</td>\n",
              "    </tr>\n",
              "    <tr>\n",
              "      <th>4</th>\n",
              "      <td>negative</td>\n",
              "      <td>@airline and it's a really big bad thing about it</td>\n",
              "    </tr>\n",
              "    <tr>\n",
              "      <th>5</th>\n",
              "      <td>negative</td>\n",
              "      <td>@airline seriously would pay $30 a flight for seats that didn't have this playing. it's really the only bad thing about flying VA</td>\n",
              "    </tr>\n",
              "    <tr>\n",
              "      <th>6</th>\n",
              "      <td>positive</td>\n",
              "      <td>@airline yes, nearly every time I fly VX this ear worm wont go away :)</td>\n",
              "    </tr>\n",
              "    <tr>\n",
              "      <th>7</th>\n",
              "      <td>neutral</td>\n",
              "      <td>@airline Really missed a prime opportunity for Men Without Hats parody, there.</td>\n",
              "    </tr>\n",
              "    <tr>\n",
              "      <th>8</th>\n",
              "      <td>positive</td>\n",
              "      <td>@airline Well, I didn'tbut NOW I DO! :-D</td>\n",
              "    </tr>\n",
              "    <tr>\n",
              "      <th>9</th>\n",
              "      <td>positive</td>\n",
              "      <td>@airline it was amazing, and arrived an hour early. You're too good to me.</td>\n",
              "    </tr>\n",
              "    <tr>\n",
              "      <th>10</th>\n",
              "      <td>neutral</td>\n",
              "      <td>@airline did you know that suicide is the second leading cause of death among teens 10-24</td>\n",
              "    </tr>\n",
              "    <tr>\n",
              "      <th>11</th>\n",
              "      <td>positive</td>\n",
              "      <td>@airline I &lt;3 pretty graphics. so much better than minimal iconography. :D</td>\n",
              "    </tr>\n",
              "    <tr>\n",
              "      <th>12</th>\n",
              "      <td>positive</td>\n",
              "      <td>@airline This is such a great deal! Already thinking about my 2nd trip to @Australia &amp; I haven't even gone on my 1st trip yet! ;p</td>\n",
              "    </tr>\n",
              "    <tr>\n",
              "      <th>13</th>\n",
              "      <td>positive</td>\n",
              "      <td>@airline @virginmedia I'm flying your fabulous Seductive skies again! U take all the stress away from travel</td>\n",
              "    </tr>\n",
              "    <tr>\n",
              "      <th>14</th>\n",
              "      <td>positive</td>\n",
              "      <td>@airline Thanks!</td>\n",
              "    </tr>\n",
              "    <tr>\n",
              "      <th>15</th>\n",
              "      <td>negative</td>\n",
              "      <td>@airline SFO-PDX schedule is still MIA.</td>\n",
              "    </tr>\n",
              "    <tr>\n",
              "      <th>16</th>\n",
              "      <td>positive</td>\n",
              "      <td>@airline So excited for my first cross country flight LAX to MCO I've heard nothing but great things about Virgin America. 29DaysToGo</td>\n",
              "    </tr>\n",
              "    <tr>\n",
              "      <th>17</th>\n",
              "      <td>negative</td>\n",
              "      <td>@airline I flew from NYC to SFO last week and couldn't fully sit in my seat due to two large gentleman on either side of me. HELP!</td>\n",
              "    </tr>\n",
              "    <tr>\n",
              "      <th>18</th>\n",
              "      <td>positive</td>\n",
              "      <td>I flying @airline.</td>\n",
              "    </tr>\n",
              "    <tr>\n",
              "      <th>19</th>\n",
              "      <td>positive</td>\n",
              "      <td>@airline you know what would be amazingly awesome? BOS-FLL PLEASE!!!!!!! I want to fly with only you.</td>\n",
              "    </tr>\n",
              "  </tbody>\n",
              "</table>\n",
              "</div>"
            ],
            "text/plain": [
              "   airline_sentiment                                                                                                                                   text\n",
              "0   neutral           @airline What @dhepburn said.                                                                                                        \n",
              "1   positive          @airline plus you've added commercials to the experience... tacky.                                                                   \n",
              "2   neutral           @airline I didn't today... Must mean I need to take another trip!                                                                    \n",
              "3   negative          @airline it's really aggressive to blast obnoxious \"entertainment\" in your guests' faces & they have little recourse                 \n",
              "4   negative          @airline and it's a really big bad thing about it                                                                                    \n",
              "5   negative          @airline seriously would pay $30 a flight for seats that didn't have this playing. it's really the only bad thing about flying VA    \n",
              "6   positive          @airline yes, nearly every time I fly VX this ear worm wont go away :)                                                               \n",
              "7   neutral           @airline Really missed a prime opportunity for Men Without Hats parody, there.                                                       \n",
              "8   positive          @airline Well, I didn'tbut NOW I DO! :-D                                                                                             \n",
              "9   positive          @airline it was amazing, and arrived an hour early. You're too good to me.                                                           \n",
              "10  neutral           @airline did you know that suicide is the second leading cause of death among teens 10-24                                            \n",
              "11  positive          @airline I <3 pretty graphics. so much better than minimal iconography. :D                                                           \n",
              "12  positive          @airline This is such a great deal! Already thinking about my 2nd trip to @Australia & I haven't even gone on my 1st trip yet! ;p    \n",
              "13  positive          @airline @virginmedia I'm flying your fabulous Seductive skies again! U take all the stress away from travel                         \n",
              "14  positive          @airline Thanks!                                                                                                                     \n",
              "15  negative          @airline SFO-PDX schedule is still MIA.                                                                                              \n",
              "16  positive          @airline So excited for my first cross country flight LAX to MCO I've heard nothing but great things about Virgin America. 29DaysToGo\n",
              "17  negative          @airline I flew from NYC to SFO last week and couldn't fully sit in my seat due to two large gentleman on either side of me. HELP!   \n",
              "18  positive          I flying @airline.                                                                                                                   \n",
              "19  positive          @airline you know what would be amazingly awesome? BOS-FLL PLEASE!!!!!!! I want to fly with only you.                                "
            ]
          },
          "metadata": {
            "tags": []
          },
          "execution_count": 179
        }
      ]
    },
    {
      "cell_type": "markdown",
      "metadata": {
        "id": "W0scJJCPwL9G",
        "colab_type": "text"
      },
      "source": [
        "Labels above 0.65 confidence seem to be correct mostly."
      ]
    },
    {
      "cell_type": "code",
      "metadata": {
        "id": "7XkE_l4_vy1J",
        "colab_type": "code",
        "outputId": "b722fc68-cfee-4a02-ca46-291cc517d1af",
        "colab": {
          "base_uri": "https://localhost:8080/",
          "height": 677
        }
      },
      "source": [
        "df[(df.airline_sentiment_confidence>0.65)|(df.airline_sentiment_confidence<0.8)][['airline_sentiment','text']].sample(20)"
      ],
      "execution_count": 180,
      "outputs": [
        {
          "output_type": "execute_result",
          "data": {
            "text/html": [
              "<div>\n",
              "<style scoped>\n",
              "    .dataframe tbody tr th:only-of-type {\n",
              "        vertical-align: middle;\n",
              "    }\n",
              "\n",
              "    .dataframe tbody tr th {\n",
              "        vertical-align: top;\n",
              "    }\n",
              "\n",
              "    .dataframe thead th {\n",
              "        text-align: right;\n",
              "    }\n",
              "</style>\n",
              "<table border=\"1\" class=\"dataframe\">\n",
              "  <thead>\n",
              "    <tr style=\"text-align: right;\">\n",
              "      <th></th>\n",
              "      <th>airline_sentiment</th>\n",
              "      <th>text</th>\n",
              "    </tr>\n",
              "  </thead>\n",
              "  <tbody>\n",
              "    <tr>\n",
              "      <th>4794</th>\n",
              "      <td>positive</td>\n",
              "      <td>@airline you're my early frontrunner for best airline! oscars2016</td>\n",
              "    </tr>\n",
              "    <tr>\n",
              "      <th>10480</th>\n",
              "      <td>negative</td>\n",
              "      <td>@airline how is it that my flt to EWR was Cancelled Flightled yet flts to NYC from USAirways are still flying?</td>\n",
              "    </tr>\n",
              "    <tr>\n",
              "      <th>8067</th>\n",
              "      <td>negative</td>\n",
              "      <td>@JetBlue what is going on with your BDL to DCA flights yesterday and today?! Why is every single one getting delayed?</td>\n",
              "    </tr>\n",
              "    <tr>\n",
              "      <th>8880</th>\n",
              "      <td>neutral</td>\n",
              "      <td>@JetBlue do they have to depart from Washington, D.C.??</td>\n",
              "    </tr>\n",
              "    <tr>\n",
              "      <th>8292</th>\n",
              "      <td>negative</td>\n",
              "      <td>@JetBlue I can probably find some of them. Are the ticket s on there?</td>\n",
              "    </tr>\n",
              "    <tr>\n",
              "      <th>927</th>\n",
              "      <td>negative</td>\n",
              "      <td>@airline still waiting to hear back. My wallet was stolen from one of your planes so would appreciate a resolution here</td>\n",
              "    </tr>\n",
              "    <tr>\n",
              "      <th>3165</th>\n",
              "      <td>negative</td>\n",
              "      <td>@airline Yes my flight was rebooked. I'm just losing trust in you if I want to get anywhere on time.</td>\n",
              "    </tr>\n",
              "    <tr>\n",
              "      <th>7894</th>\n",
              "      <td>neutral</td>\n",
              "      <td>@JetBlue Thank you ! What about Paris ? Could we arrange something from there ?</td>\n",
              "    </tr>\n",
              "    <tr>\n",
              "      <th>2818</th>\n",
              "      <td>negative</td>\n",
              "      <td>@airline not 100% sure, however my ticket included one checked bag, therefore this charge was extra and completely unanticipated.</td>\n",
              "    </tr>\n",
              "    <tr>\n",
              "      <th>9145</th>\n",
              "      <td>positive</td>\n",
              "      <td>@airline great crew for flight 504 PHX to YVR tonight! Friendly, efficient. Awesome job.</td>\n",
              "    </tr>\n",
              "    <tr>\n",
              "      <th>8983</th>\n",
              "      <td>negative</td>\n",
              "      <td>@airline I've been on hold to change a date on a ticket for over 3 hours. Can someone please assist me? Unacceptable.</td>\n",
              "    </tr>\n",
              "    <tr>\n",
              "      <th>5333</th>\n",
              "      <td>neutral</td>\n",
              "      <td>@airline I DM'd you</td>\n",
              "    </tr>\n",
              "    <tr>\n",
              "      <th>5821</th>\n",
              "      <td>positive</td>\n",
              "      <td>@airline Already signed up! Thanks! Looking forward to trying the Southwest experience.</td>\n",
              "    </tr>\n",
              "    <tr>\n",
              "      <th>5460</th>\n",
              "      <td>neutral</td>\n",
              "      <td>@airline it was 3472</td>\n",
              "    </tr>\n",
              "    <tr>\n",
              "      <th>10397</th>\n",
              "      <td>positive</td>\n",
              "      <td>@airline Oh well. I'll get to Cancun eventually.</td>\n",
              "    </tr>\n",
              "    <tr>\n",
              "      <th>10369</th>\n",
              "      <td>negative</td>\n",
              "      <td>@airline flight 837 passengers stuck on plane in Philly. Where is the gangway? We can't hear the pilot</td>\n",
              "    </tr>\n",
              "    <tr>\n",
              "      <th>12299</th>\n",
              "      <td>negative</td>\n",
              "      <td>@airline No, had already waited an hour for it and wanted to get home.</td>\n",
              "    </tr>\n",
              "    <tr>\n",
              "      <th>4590</th>\n",
              "      <td>positive</td>\n",
              "      <td>@airline thanks for the quick response. Should I call daily it wait the 5 days.</td>\n",
              "    </tr>\n",
              "    <tr>\n",
              "      <th>7458</th>\n",
              "      <td>negative</td>\n",
              "      <td>@JetBlue now we dont have enough money for parking in your garage this is your fault and im not paying for what should be 10mins into 3hrs</td>\n",
              "    </tr>\n",
              "    <tr>\n",
              "      <th>7946</th>\n",
              "      <td>neutral</td>\n",
              "      <td>@JetBlue 266 at LGB in Sunny So Cal</td>\n",
              "    </tr>\n",
              "  </tbody>\n",
              "</table>\n",
              "</div>"
            ],
            "text/plain": [
              "      airline_sentiment                                                                                                                                        text\n",
              "4794   positive          @airline you're my early frontrunner for best airline! oscars2016                                                                         \n",
              "10480  negative          @airline how is it that my flt to EWR was Cancelled Flightled yet flts to NYC from USAirways are still flying?                            \n",
              "8067   negative          @JetBlue what is going on with your BDL to DCA flights yesterday and today?! Why is every single one getting delayed?                     \n",
              "8880   neutral           @JetBlue do they have to depart from Washington, D.C.??                                                                                   \n",
              "8292   negative          @JetBlue I can probably find some of them. Are the ticket s on there?                                                                     \n",
              "927    negative          @airline still waiting to hear back. My wallet was stolen from one of your planes so would appreciate a resolution here                   \n",
              "3165   negative          @airline Yes my flight was rebooked. I'm just losing trust in you if I want to get anywhere on time.                                      \n",
              "7894   neutral           @JetBlue Thank you ! What about Paris ? Could we arrange something from there ?                                                           \n",
              "2818   negative          @airline not 100% sure, however my ticket included one checked bag, therefore this charge was extra and completely unanticipated.         \n",
              "9145   positive          @airline great crew for flight 504 PHX to YVR tonight! Friendly, efficient. Awesome job.                                                  \n",
              "8983   negative          @airline I've been on hold to change a date on a ticket for over 3 hours. Can someone please assist me? Unacceptable.                     \n",
              "5333   neutral           @airline I DM'd you                                                                                                                       \n",
              "5821   positive          @airline Already signed up! Thanks! Looking forward to trying the Southwest experience.                                                   \n",
              "5460   neutral           @airline it was 3472                                                                                                                      \n",
              "10397  positive          @airline Oh well. I'll get to Cancun eventually.                                                                                          \n",
              "10369  negative          @airline flight 837 passengers stuck on plane in Philly. Where is the gangway? We can't hear the pilot                                    \n",
              "12299  negative          @airline No, had already waited an hour for it and wanted to get home.                                                                    \n",
              "4590   positive          @airline thanks for the quick response. Should I call daily it wait the 5 days.                                                           \n",
              "7458   negative          @JetBlue now we dont have enough money for parking in your garage this is your fault and im not paying for what should be 10mins into 3hrs\n",
              "7946   neutral           @JetBlue 266 at LGB in Sunny So Cal                                                                                                       "
            ]
          },
          "metadata": {
            "tags": []
          },
          "execution_count": 180
        }
      ]
    },
    {
      "cell_type": "markdown",
      "metadata": {
        "id": "y7C2IH64XNok",
        "colab_type": "text"
      },
      "source": [
        "# Data Preprocessing"
      ]
    },
    {
      "cell_type": "markdown",
      "metadata": {
        "id": "vqRdK1CzXozb",
        "colab_type": "text"
      },
      "source": [
        "Note: I won't be removing the low confidence tweets here. I will use the entire dataset for fine-tuning the language model and then remove the ambiguous tweets before training the classifier.\n",
        "\n",
        "Without any of the following preprocessing steps, the model only achieves an accuracy of 81 percent. The model also labels exactly the same tweets addressed to different airlines with different labels. i.e., The model was associating airline names with labels as shown in the image below:\n",
        "\n",
        "\n"
      ]
    },
    {
      "cell_type": "markdown",
      "metadata": {
        "id": "4IeQ3OsAzvzn",
        "colab_type": "text"
      },
      "source": [
        "![image.png](data:image/png;base64,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)"
      ]
    },
    {
      "cell_type": "markdown",
      "metadata": {
        "id": "VV_lDGDnzt4G",
        "colab_type": "text"
      },
      "source": [
        "Here, it is to be noted that the pre-trained language model was trained on Wikitext 103 dataset which contains a pre-processed large subset of English Wikipedia. Hence, following popular practices of removing stopwords and changing entire texts to lowercase would lead to a huge loss of information and meaning.\n",
        "\n",
        "Also, Fast AI provides TextLMDataBunch class to prepare data bunch for text processing. This class takes care of marking unknown words, capitalisation and repetition of words. Which leaves us to perform the following pre-processing steps:\n",
        "\n",
        "1. Removing non-ASCII characters.\n",
        "2. Replacing twitter handles of airlines: As discussed above, the model should not associate airline's handles with labels.\n",
        "3. Removing hyperlinks: While they might provide some context, our model would not be able to make any sense of the links.\n",
        "4. Removing hashes from hashtags: While the word with the hashtag has meaning, the hashtag does not. \n"
      ]
    },
    {
      "cell_type": "code",
      "metadata": {
        "id": "r5gwU5t3XoPy",
        "colab_type": "code",
        "colab": {}
      },
      "source": [
        "# function to remove non-ASCII chars from data\n",
        "def clean_ascii(text):    \n",
        "    return ''.join(i for i in text if ord(i) < 128)"
      ],
      "execution_count": 0,
      "outputs": []
    },
    {
      "cell_type": "code",
      "metadata": {
        "id": "tFanRtl0P_cV",
        "colab_type": "code",
        "colab": {}
      },
      "source": [
        "df['text'] = df['text'].apply(clean_ascii)"
      ],
      "execution_count": 0,
      "outputs": []
    },
    {
      "cell_type": "code",
      "metadata": {
        "id": "tdmvHH30dnKx",
        "colab_type": "code",
        "colab": {}
      },
      "source": [
        "#replacing @<airline name> with @airline to avoid wrongly influencing the model\n",
        "import re\n",
        "regex = r\"@(VirginAmerica|united|SouthwestAir|Delta|USAirways|AmericanAir)\"\n",
        "def text_replace(text):\n",
        "    return re.sub(regex, '@airline', text, flags=re.IGNORECASE)\n",
        "\n"
      ],
      "execution_count": 0,
      "outputs": []
    },
    {
      "cell_type": "code",
      "metadata": {
        "id": "fbyv9-n5dr-d",
        "colab_type": "code",
        "colab": {}
      },
      "source": [
        "df['text'] = df['text'].apply(text_replace)"
      ],
      "execution_count": 0,
      "outputs": []
    },
    {
      "cell_type": "code",
      "metadata": {
        "id": "U62DJ1DhdsZJ",
        "colab_type": "code",
        "colab": {}
      },
      "source": [
        "#cleaning html tags\n",
        "from bs4 import BeautifulSoup\n",
        "df['text'] = df['text'].apply(lambda x: BeautifulSoup(x).get_text())"
      ],
      "execution_count": 0,
      "outputs": []
    },
    {
      "cell_type": "code",
      "metadata": {
        "id": "oBCWWSOtduPm",
        "colab_type": "code",
        "colab": {}
      },
      "source": [
        "# this removes entire hashtags\n",
        "# df_final['text'] = df_final['text'].apply(lambda x: ' '.join(re.sub(\"(#[A-Za-z0-9]+)\", \" \", x).split()))\n",
        "\n",
        "#removing only hashes\n",
        "df['text'] = df['text'].apply(lambda x: ' '.join(re.sub(\"[#]\", \" \", x).split()))\n"
      ],
      "execution_count": 0,
      "outputs": []
    },
    {
      "cell_type": "code",
      "metadata": {
        "id": "2erRwFOmd-rU",
        "colab_type": "code",
        "colab": {}
      },
      "source": [
        "#removing hyperlinks\n",
        "df['text'] = df['text'].apply(lambda x: ' '.join(re.sub(\"(\\w+:\\/\\/\\S+)\", \" \", x).split()))\n"
      ],
      "execution_count": 0,
      "outputs": []
    },
    {
      "cell_type": "markdown",
      "metadata": {
        "id": "eyYzFasA-JMq",
        "colab_type": "text"
      },
      "source": [
        "# Fine Tuning The Language Model\n",
        "\n",
        "The data is first divided into a training and validation set. Stratified division is used to make sure data is uniformly distributed."
      ]
    },
    {
      "cell_type": "code",
      "metadata": {
        "id": "E3bDdvw7eCzt",
        "colab_type": "code",
        "colab": {}
      },
      "source": [
        "#selecting required columns\n",
        "df_final=df[['airline_sentiment','text']]"
      ],
      "execution_count": 0,
      "outputs": []
    },
    {
      "cell_type": "code",
      "metadata": {
        "id": "XdaNXhiSnPRf",
        "colab_type": "code",
        "colab": {}
      },
      "source": [
        "train, valid = train_test_split(df_final, test_size=0.1,stratify=df.airline_sentiment)"
      ],
      "execution_count": 0,
      "outputs": []
    },
    {
      "cell_type": "markdown",
      "metadata": {
        "id": "nCoUGDfF_iMB",
        "colab_type": "text"
      },
      "source": [
        "The TextLMDataBunch class adds various tags to denote unknown words, capitalization as well as repetition of words. Words like \"don't\" have been replaced with \"do n't\". \n",
        "It also removes some HTML tags and processes hashtags that we have taken care of already. I observed that removing the \"#\" symbol gave better results than just adding a space between the \"#\" and the tag."
      ]
    },
    {
      "cell_type": "code",
      "metadata": {
        "id": "OFlZ7CXmnR6M",
        "colab_type": "code",
        "outputId": "449c7e01-8149-47ef-9ef9-330f9e3a3eec",
        "colab": {
          "base_uri": "https://localhost:8080/",
          "height": 17
        }
      },
      "source": [
        "data_lm = TextLMDataBunch.from_df('/temp', train_df = train, valid_df = valid)"
      ],
      "execution_count": 194,
      "outputs": [
        {
          "output_type": "display_data",
          "data": {
            "text/html": [
              ""
            ],
            "text/plain": [
              "<IPython.core.display.HTML object>"
            ]
          },
          "metadata": {
            "tags": []
          }
        },
        {
          "output_type": "display_data",
          "data": {
            "text/html": [
              ""
            ],
            "text/plain": [
              "<IPython.core.display.HTML object>"
            ]
          },
          "metadata": {
            "tags": []
          }
        }
      ]
    },
    {
      "cell_type": "code",
      "metadata": {
        "id": "YqZJ--mAG92U",
        "colab_type": "code",
        "outputId": "62e06a72-59a7-431e-a916-6bff2a7d6581",
        "colab": {
          "base_uri": "https://localhost:8080/",
          "height": 293
        }
      },
      "source": [
        "data_lm.show_batch()"
      ],
      "execution_count": 191,
      "outputs": [
        {
          "output_type": "display_data",
          "data": {
            "text/html": [
              "<table border=\"1\" class=\"dataframe\">\n",
              "  <thead>\n",
              "    <tr style=\"text-align: right;\">\n",
              "      <th>idx</th>\n",
              "      <th>text</th>\n",
              "    </tr>\n",
              "  </thead>\n",
              "  <tbody>\n",
              "    <tr>\n",
              "      <td>0</td>\n",
              "      <td>to xxmaj syracuse ? xxmaj after 6 xxmaj cancelled xxmaj flightled flights , one re routing three of us are sitting in xxmaj charlotte xxbos @airline thank you for blowing my vacation . xxmaj could n't get me anywhere today to make my reservation and also lost 2 bags of mine ! xxbos @airline xxup hello ? ! xxmaj it 's been xxup four xxup hours since plane landed !</td>\n",
              "    </tr>\n",
              "    <tr>\n",
              "      <td>1</td>\n",
              "      <td>another 4 drink coupons xxrep 4 . i think i have over 30 coupons now . free drinks anyone ? xxbos @airline why do i have to wait for 2 hours to talk to someone when you changed my flight ? xxbos @airline @airline xxmaj suggestions , been on hold 2 hrs for flight that is now about to pass departure ... xxmaj dealing w ny weather , need change</td>\n",
              "    </tr>\n",
              "    <tr>\n",
              "      <td>2</td>\n",
              "      <td>me if i 'll make my flight out of here tomorrow 8 am ? i 've been tryin for 3 days now to leave xxbos @airline -- i 've been on hold 40 mins to xxmaj cancelled xxmaj flight my reservation for this afternoon . xxmaj is there another way ? xxmaj web tells me to call . xxbos @airline :( xxmaj thanks for the opportunity ... xxbos @airline @airline</td>\n",
              "    </tr>\n",
              "    <tr>\n",
              "      <td>3</td>\n",
              "      <td>! xxmaj yet . xxmaj we ca n't mail xxmaj them a payment and fly before hand right xxbos @airline xxmaj you are 0 for 3 so far in on - time flights on this vacation . xxbos @jetblue i have a disabled seat in row 6 do i get to board earlier ? xxbos @airline xxmaj hey xxunk can you send me to xxmaj atlanta to see @imaginedragons ?</td>\n",
              "    </tr>\n",
              "    <tr>\n",
              "      <td>4</td>\n",
              "      <td>to admirals club for an hour before our flight to our wedding ! xxbos @airline haha , thanks for the explanation xxbos @jetblue xxunk love flying jet blue tho ! ! xxbos 1 / 2 @airline xxmaj just be honest with your customers . xxmaj the new seats are designed to fit more rows on the plane . xxmaj more rows = more money . xxbos @airline xxunk xxmaj another</td>\n",
              "    </tr>\n",
              "  </tbody>\n",
              "</table>"
            ],
            "text/plain": [
              "<IPython.core.display.HTML object>"
            ]
          },
          "metadata": {
            "tags": []
          }
        }
      ]
    },
    {
      "cell_type": "markdown",
      "metadata": {
        "id": "1a2pwJZdFvBA",
        "colab_type": "text"
      },
      "source": [
        "## Fine Tuning"
      ]
    },
    {
      "cell_type": "code",
      "metadata": {
        "id": "pbEkG1_enTFs",
        "colab_type": "code",
        "colab": {}
      },
      "source": [
        "learn = language_model_learner(data_lm, AWD_LSTM, drop_mult=0.6, model_dir='/tmp/models')\n",
        "learn.freeze()\n"
      ],
      "execution_count": 0,
      "outputs": []
    },
    {
      "cell_type": "markdown",
      "metadata": {
        "id": "1m1sNdTKFAxq",
        "colab_type": "text"
      },
      "source": [
        "The lr_find function plots the training loss of the learner at different learning rates. It increases the learning after each mini-batch. Eventually, the loss decreases to a minimum at an optimim and then increases steeply as the learning rates become too high.\n"
      ]
    },
    {
      "cell_type": "markdown",
      "metadata": {
        "id": "etZ9hFUFJ0X4",
        "colab_type": "text"
      },
      "source": [
        "After the fine-tuning, the model should be able to detect the next word of a tweet with a higher accuracy."
      ]
    },
    {
      "cell_type": "code",
      "metadata": {
        "id": "YlinPZVtg35C",
        "colab_type": "code",
        "outputId": "3e62521e-ec4d-4c4c-af46-2ba535fd2e50",
        "colab": {
          "base_uri": "https://localhost:8080/",
          "height": 441
        }
      },
      "source": [
        "learn.lr_find()\n",
        "learn.recorder.plot(suggestion=True)"
      ],
      "execution_count": 193,
      "outputs": [
        {
          "output_type": "display_data",
          "data": {
            "text/html": [
              "\n",
              "    <div>\n",
              "        <style>\n",
              "            /* Turns off some styling */\n",
              "            progress {\n",
              "                /* gets rid of default border in Firefox and Opera. */\n",
              "                border: none;\n",
              "                /* Needs to be in here for Safari polyfill so background images work as expected. */\n",
              "                background-size: auto;\n",
              "            }\n",
              "            .progress-bar-interrupted, .progress-bar-interrupted::-webkit-progress-bar {\n",
              "                background: #F44336;\n",
              "            }\n",
              "        </style>\n",
              "      <progress value='1' class='' max='2', style='width:300px; height:20px; vertical-align: middle;'></progress>\n",
              "      50.00% [1/2 00:12<00:12]\n",
              "    </div>\n",
              "    \n",
              "<table border=\"1\" class=\"dataframe\">\n",
              "  <thead>\n",
              "    <tr style=\"text-align: left;\">\n",
              "      <th>epoch</th>\n",
              "      <th>train_loss</th>\n",
              "      <th>valid_loss</th>\n",
              "      <th>accuracy</th>\n",
              "      <th>time</th>\n",
              "    </tr>\n",
              "  </thead>\n",
              "  <tbody>\n",
              "    <tr>\n",
              "      <td>0</td>\n",
              "      <td>6.120875</td>\n",
              "      <td>#na#</td>\n",
              "      <td>00:12</td>\n",
              "    </tr>\n",
              "  </tbody>\n",
              "</table><p>\n",
              "\n",
              "    <div>\n",
              "        <style>\n",
              "            /* Turns off some styling */\n",
              "            progress {\n",
              "                /* gets rid of default border in Firefox and Opera. */\n",
              "                border: none;\n",
              "                /* Needs to be in here for Safari polyfill so background images work as expected. */\n",
              "                background-size: auto;\n",
              "            }\n",
              "            .progress-bar-interrupted, .progress-bar-interrupted::-webkit-progress-bar {\n",
              "                background: #F44336;\n",
              "            }\n",
              "        </style>\n",
              "      <progress value='29' class='' max='70', style='width:300px; height:20px; vertical-align: middle;'></progress>\n",
              "      41.43% [29/70 00:05<00:07 10.2294]\n",
              "    </div>\n",
              "    "
            ],
            "text/plain": [
              "<IPython.core.display.HTML object>"
            ]
          },
          "metadata": {
            "tags": []
          }
        },
        {
          "output_type": "stream",
          "text": [
            "LR Finder is complete, type {learner_name}.recorder.plot() to see the graph.\n",
            "Min numerical gradient: 8.32E-02\n",
            "Min loss divided by 10: 5.25E-02\n"
          ],
          "name": "stdout"
        },
        {
          "output_type": "display_data",
          "data": {
            "image/png": "[encoded data removed]",
            "text/plain": [
              "<Figure size 432x288 with 1 Axes>"
            ]
          },
          "metadata": {
            "tags": []
          }
        }
      ]
    },
    {
      "cell_type": "markdown",
      "metadata": {
        "id": "L4fZ2z6IJMtd",
        "colab_type": "text"
      },
      "source": [
        "At first, only the last layer of the model is trained. This layer captures more generalised information.\n",
        "\n",
        "fit_one_cycle takes the maximum learning rate as a parameter for one cycle of learning. According to the ULMfit, slanted triangualar learning rates work best. Hence, the learning rate increases initially and reaches a maximum and then decays slowly."
      ]
    },
    {
      "cell_type": "code",
      "metadata": {
        "id": "AkYIjl3KoRYL",
        "colab_type": "code",
        "outputId": "33fcbc22-c990-4dfa-b56d-7be8e786a714",
        "colab": {
          "base_uri": "https://localhost:8080/",
          "height": 81
        }
      },
      "source": [
        "learn.fit_one_cycle(1, 1e-2)"
      ],
      "execution_count": 195,
      "outputs": [
        {
          "output_type": "display_data",
          "data": {
            "text/html": [
              "<table border=\"1\" class=\"dataframe\">\n",
              "  <thead>\n",
              "    <tr style=\"text-align: left;\">\n",
              "      <th>epoch</th>\n",
              "      <th>train_loss</th>\n",
              "      <th>valid_loss</th>\n",
              "      <th>accuracy</th>\n",
              "      <th>time</th>\n",
              "    </tr>\n",
              "  </thead>\n",
              "  <tbody>\n",
              "    <tr>\n",
              "      <td>0</td>\n",
              "      <td>4.781593</td>\n",
              "      <td>4.083762</td>\n",
              "      <td>0.252986</td>\n",
              "      <td>00:13</td>\n",
              "    </tr>\n",
              "  </tbody>\n",
              "</table>"
            ],
            "text/plain": [
              "<IPython.core.display.HTML object>"
            ]
          },
          "metadata": {
            "tags": []
          }
        }
      ]
    },
    {
      "cell_type": "code",
      "metadata": {
        "id": "0o41Z4HnoUcq",
        "colab_type": "code",
        "colab": {}
      },
      "source": [
        "learn.unfreeze()"
      ],
      "execution_count": 0,
      "outputs": []
    },
    {
      "cell_type": "markdown",
      "metadata": {
        "id": "W2FLAU_KJTXP",
        "colab_type": "text"
      },
      "source": [
        "The model is trained for a few more epochs after unfreezing."
      ]
    },
    {
      "cell_type": "code",
      "metadata": {
        "id": "czD15ERwoVj1",
        "colab_type": "code",
        "outputId": "6e9eb16c-cb1c-420a-dafc-44b98687f2e2",
        "colab": {
          "base_uri": "https://localhost:8080/",
          "height": 143
        }
      },
      "source": [
        "lr  = 1e-2\n",
        "learn.fit_one_cycle(3, lr)"
      ],
      "execution_count": 197,
      "outputs": [
        {
          "output_type": "display_data",
          "data": {
            "text/html": [
              "<table border=\"1\" class=\"dataframe\">\n",
              "  <thead>\n",
              "    <tr style=\"text-align: left;\">\n",
              "      <th>epoch</th>\n",
              "      <th>train_loss</th>\n",
              "      <th>valid_loss</th>\n",
              "      <th>accuracy</th>\n",
              "      <th>time</th>\n",
              "    </tr>\n",
              "  </thead>\n",
              "  <tbody>\n",
              "    <tr>\n",
              "      <td>0</td>\n",
              "      <td>4.020117</td>\n",
              "      <td>3.773373</td>\n",
              "      <td>0.289927</td>\n",
              "      <td>00:13</td>\n",
              "    </tr>\n",
              "    <tr>\n",
              "      <td>1</td>\n",
              "      <td>3.723047</td>\n",
              "      <td>3.651400</td>\n",
              "      <td>0.305608</td>\n",
              "      <td>00:14</td>\n",
              "    </tr>\n",
              "    <tr>\n",
              "      <td>2</td>\n",
              "      <td>3.265375</td>\n",
              "      <td>3.662007</td>\n",
              "      <td>0.307087</td>\n",
              "      <td>00:14</td>\n",
              "    </tr>\n",
              "  </tbody>\n",
              "</table>"
            ],
            "text/plain": [
              "<IPython.core.display.HTML object>"
            ]
          },
          "metadata": {
            "tags": []
          }
        }
      ]
    },
    {
      "cell_type": "markdown",
      "metadata": {
        "id": "UvuK4hMWPrMT",
        "colab_type": "text"
      },
      "source": [
        "The prediction here seems to be grammatically accurate. We now will save the encoder for future use."
      ]
    },
    {
      "cell_type": "code",
      "metadata": {
        "id": "Sxew1-1AoWox",
        "colab_type": "code",
        "outputId": "fedc5ad0-0b03-409c-bd7b-d81f597cf08d",
        "colab": {
          "base_uri": "https://localhost:8080/",
          "height": 34
        }
      },
      "source": [
        "learn.predict('I am sitting here', n_words=20)\n"
      ],
      "execution_count": 198,
      "outputs": [
        {
          "output_type": "execute_result",
          "data": {
            "text/plain": [
              "'I am sitting here in the airport waiting for a flight to Chicago . Any idea when my flight will be'"
            ]
          },
          "metadata": {
            "tags": []
          },
          "execution_count": 198
        }
      ]
    },
    {
      "cell_type": "code",
      "metadata": {
        "id": "5vdstthMokYa",
        "colab_type": "code",
        "colab": {}
      },
      "source": [
        "learn.save_encoder('encoder') #saving the encoder for future use"
      ],
      "execution_count": 0,
      "outputs": []
    },
    {
      "cell_type": "markdown",
      "metadata": {
        "id": "wKkkMmVBKAyY",
        "colab_type": "text"
      },
      "source": [
        "## Removing low-confidence tweets\n",
        "\n",
        "As seen before, low confidence tweets are either mis-classified or ambiguous."
      ]
    },
    {
      "cell_type": "code",
      "metadata": {
        "id": "v9cLKSj6olf6",
        "colab_type": "code",
        "colab": {}
      },
      "source": [
        "dff=df[df.airline_sentiment_confidence>0.65].reset_index(drop=True)"
      ],
      "execution_count": 0,
      "outputs": []
    },
    {
      "cell_type": "code",
      "metadata": {
        "id": "knMzUMS6hamb",
        "colab_type": "code",
        "outputId": "ff5a215e-403c-463f-bc53-ab1e0181fadf",
        "colab": {
          "base_uri": "https://localhost:8080/",
          "height": 34
        }
      },
      "source": [
        "dff.shape"
      ],
      "execution_count": 201,
      "outputs": [
        {
          "output_type": "execute_result",
          "data": {
            "text/plain": [
              "(13651, 16)"
            ]
          },
          "metadata": {
            "tags": []
          },
          "execution_count": 201
        }
      ]
    },
    {
      "cell_type": "markdown",
      "metadata": {
        "id": "YSpRNEQ8KUJq",
        "colab_type": "text"
      },
      "source": [
        "Extracting required columns required to train the classifier"
      ]
    },
    {
      "cell_type": "code",
      "metadata": {
        "id": "M9W14WgThfbV",
        "colab_type": "code",
        "colab": {}
      },
      "source": [
        "df_final_clas=dff[['airline_sentiment','text']]"
      ],
      "execution_count": 0,
      "outputs": []
    },
    {
      "cell_type": "code",
      "metadata": {
        "id": "gZfFHG7phm9j",
        "colab_type": "code",
        "outputId": "b665b6c9-8130-4039-9250-194d91e5b91b",
        "colab": {
          "base_uri": "https://localhost:8080/",
          "height": 34
        }
      },
      "source": [
        "df_final_clas.shape"
      ],
      "execution_count": 203,
      "outputs": [
        {
          "output_type": "execute_result",
          "data": {
            "text/plain": [
              "(13651, 2)"
            ]
          },
          "metadata": {
            "tags": []
          },
          "execution_count": 203
        }
      ]
    },
    {
      "cell_type": "markdown",
      "metadata": {
        "id": "3sRAzvr0Ka4F",
        "colab_type": "text"
      },
      "source": [
        "# Training the Classifier"
      ]
    },
    {
      "cell_type": "markdown",
      "metadata": {
        "id": "H-FpaKofKnxn",
        "colab_type": "text"
      },
      "source": [
        "The data is split into training, test and validation sets. Note that the stratify parameter is extremely important here to make sure that data from all categories is distributed in appropriate ratios among the train, test and validation sets."
      ]
    },
    {
      "cell_type": "code",
      "metadata": {
        "id": "g4RXWP4Up3zr",
        "colab_type": "code",
        "colab": {}
      },
      "source": [
        "train_valid, test = train_test_split(df_final_clas, test_size=0.1,stratify=df_final_clas.airline_sentiment)\n",
        "train, valid = train_test_split(train_valid, test_size=0.1,stratify=train_valid.airline_sentiment)"
      ],
      "execution_count": 0,
      "outputs": []
    },
    {
      "cell_type": "markdown",
      "metadata": {
        "id": "qs8rLjMmLCDm",
        "colab_type": "text"
      },
      "source": [
        "Creating the databuch and passing the vocab from the learning model databunch"
      ]
    },
    {
      "cell_type": "code",
      "metadata": {
        "id": "1SGX3mGHp8e3",
        "colab_type": "code",
        "outputId": "be776ca2-8864-4f17-b964-62389d3c36fa",
        "colab": {
          "base_uri": "https://localhost:8080/",
          "height": 17
        }
      },
      "source": [
        "data_clas = TextClasDataBunch.from_df('/temp',train_df=train, valid_df = valid,test_df = test, vocab=data_lm.train_ds.vocab,  text_cols='text', label_cols='airline_sentiment', bs=32)\n"
      ],
      "execution_count": 205,
      "outputs": [
        {
          "output_type": "display_data",
          "data": {
            "text/html": [
              ""
            ],
            "text/plain": [
              "<IPython.core.display.HTML object>"
            ]
          },
          "metadata": {
            "tags": []
          }
        },
        {
          "output_type": "display_data",
          "data": {
            "text/html": [
              ""
            ],
            "text/plain": [
              "<IPython.core.display.HTML object>"
            ]
          },
          "metadata": {
            "tags": []
          }
        },
        {
          "output_type": "display_data",
          "data": {
            "text/html": [
              ""
            ],
            "text/plain": [
              "<IPython.core.display.HTML object>"
            ]
          },
          "metadata": {
            "tags": []
          }
        }
      ]
    },
    {
      "cell_type": "markdown",
      "metadata": {
        "id": "cX-eJyYNLES5",
        "colab_type": "text"
      },
      "source": [
        "The classifier is initialised here with a dropout rate of 0.7. This helps make sure that the model learns fast enough but does not overfit too soon at the same time.\n",
        "\n",
        "The fine tuned language model saved earler is loaded too."
      ]
    },
    {
      "cell_type": "code",
      "metadata": {
        "id": "hT6NiLRVp9uL",
        "colab_type": "code",
        "colab": {}
      },
      "source": [
        "learn = text_classifier_learner(data_clas, AWD_LSTM, drop_mult=0.7, model_dir='/tmp/models')\n",
        "learn.load_encoder('encoder')\n",
        "learn.freeze()"
      ],
      "execution_count": 0,
      "outputs": []
    },
    {
      "cell_type": "markdown",
      "metadata": {
        "id": "rteocyr_Lk7e",
        "colab_type": "text"
      },
      "source": [
        "Similar to the process followed with the language model, we try to choose a learning rate where the loss is least yet still decreasing. i.e. we do not choose the learning rate at the lowest point of the graph. "
      ]
    },
    {
      "cell_type": "code",
      "metadata": {
        "id": "CZZwyW1rp-yw",
        "colab_type": "code",
        "outputId": "cc440d7b-9de2-409e-c3ac-9fb5409c87a6",
        "colab": {
          "base_uri": "https://localhost:8080/",
          "height": 409
        }
      },
      "source": [
        "learn.lr_find()\n",
        "learn.recorder.plot(suggestion=True)\n"
      ],
      "execution_count": 207,
      "outputs": [
        {
          "output_type": "display_data",
          "data": {
            "text/html": [
              "\n",
              "    <div>\n",
              "        <style>\n",
              "            /* Turns off some styling */\n",
              "            progress {\n",
              "                /* gets rid of default border in Firefox and Opera. */\n",
              "                border: none;\n",
              "                /* Needs to be in here for Safari polyfill so background images work as expected. */\n",
              "                background-size: auto;\n",
              "            }\n",
              "            .progress-bar-interrupted, .progress-bar-interrupted::-webkit-progress-bar {\n",
              "                background: #F44336;\n",
              "            }\n",
              "        </style>\n",
              "      <progress value='0' class='' max='1', style='width:300px; height:20px; vertical-align: middle;'></progress>\n",
              "      0.00% [0/1 00:00<00:00]\n",
              "    </div>\n",
              "    \n",
              "<table border=\"1\" class=\"dataframe\">\n",
              "  <thead>\n",
              "    <tr style=\"text-align: left;\">\n",
              "      <th>epoch</th>\n",
              "      <th>train_loss</th>\n",
              "      <th>valid_loss</th>\n",
              "      <th>accuracy</th>\n",
              "      <th>time</th>\n",
              "    </tr>\n",
              "  </thead>\n",
              "  <tbody>\n",
              "  </tbody>\n",
              "</table><p>\n",
              "\n",
              "    <div>\n",
              "        <style>\n",
              "            /* Turns off some styling */\n",
              "            progress {\n",
              "                /* gets rid of default border in Firefox and Opera. */\n",
              "                border: none;\n",
              "                /* Needs to be in here for Safari polyfill so background images work as expected. */\n",
              "                background-size: auto;\n",
              "            }\n",
              "            .progress-bar-interrupted, .progress-bar-interrupted::-webkit-progress-bar {\n",
              "                background: #F44336;\n",
              "            }\n",
              "        </style>\n",
              "      <progress value='91' class='' max='345', style='width:300px; height:20px; vertical-align: middle;'></progress>\n",
              "      26.38% [91/345 00:03<00:09 1.4068]\n",
              "    </div>\n",
              "    "
            ],
            "text/plain": [
              "<IPython.core.display.HTML object>"
            ]
          },
          "metadata": {
            "tags": []
          }
        },
        {
          "output_type": "stream",
          "text": [
            "LR Finder is complete, type {learner_name}.recorder.plot() to see the graph.\n",
            "Min numerical gradient: 3.02E-01\n",
            "Min loss divided by 10: 5.25E-02\n"
          ],
          "name": "stdout"
        },
        {
          "output_type": "display_data",
          "data": {
            "image/png": "[encoded data removed]",
            "text/plain": [
              "<Figure size 432x288 with 1 Axes>"
            ]
          },
          "metadata": {
            "tags": []
          }
        }
      ]
    },
    {
      "cell_type": "markdown",
      "metadata": {
        "id": "Dx6_D67zL57h",
        "colab_type": "text"
      },
      "source": [
        "According to the FastAI course, the following values have been found to be the best for momentum and weight decay. The momentum is smaller when we are learning at a higher learning rate and higher when we are learning at a lower learning rate.\n",
        "\n",
        "The last layer of the model is trained first for a few epochs and the next layers are trained afterwards with lower learning rate for each next layer.\n",
        "\n",
        "Gradual unfreezing and training is to avoid catastropic forgetting, i.e. loosing all prior information.\n"
      ]
    },
    {
      "cell_type": "code",
      "metadata": {
        "id": "4YUCrY_lqcM2",
        "colab_type": "code",
        "outputId": "1c2b510b-957d-4065-f1bc-e729eb1c7bd8",
        "colab": {
          "base_uri": "https://localhost:8080/",
          "height": 196
        }
      },
      "source": [
        "moms=(0.8,0.7)\n",
        "wd=0.1\n",
        "lr = 1.0E-01\n",
        "learn.fit_one_cycle(3, lr, moms=moms, wd=wd,callbacks=[SaveModelCallback(learn, name=\"best_lm\")])"
      ],
      "execution_count": 208,
      "outputs": [
        {
          "output_type": "display_data",
          "data": {
            "text/html": [
              "<table border=\"1\" class=\"dataframe\">\n",
              "  <thead>\n",
              "    <tr style=\"text-align: left;\">\n",
              "      <th>epoch</th>\n",
              "      <th>train_loss</th>\n",
              "      <th>valid_loss</th>\n",
              "      <th>accuracy</th>\n",
              "      <th>time</th>\n",
              "    </tr>\n",
              "  </thead>\n",
              "  <tbody>\n",
              "    <tr>\n",
              "      <td>0</td>\n",
              "      <td>0.752653</td>\n",
              "      <td>1.119232</td>\n",
              "      <td>0.397071</td>\n",
              "      <td>00:14</td>\n",
              "    </tr>\n",
              "    <tr>\n",
              "      <td>1</td>\n",
              "      <td>0.708799</td>\n",
              "      <td>0.584495</td>\n",
              "      <td>0.812856</td>\n",
              "      <td>00:13</td>\n",
              "    </tr>\n",
              "    <tr>\n",
              "      <td>2</td>\n",
              "      <td>0.611348</td>\n",
              "      <td>0.503721</td>\n",
              "      <td>0.814483</td>\n",
              "      <td>00:15</td>\n",
              "    </tr>\n",
              "  </tbody>\n",
              "</table>"
            ],
            "text/plain": [
              "<IPython.core.display.HTML object>"
            ]
          },
          "metadata": {
            "tags": []
          }
        },
        {
          "output_type": "stream",
          "text": [
            "Better model found at epoch 0 with valid_loss value: 1.1192317008972168.\n",
            "Better model found at epoch 1 with valid_loss value: 0.5844947695732117.\n",
            "Better model found at epoch 2 with valid_loss value: 0.5037214756011963.\n"
          ],
          "name": "stdout"
        }
      ]
    },
    {
      "cell_type": "code",
      "metadata": {
        "id": "Nl9YtQnR4xVt",
        "colab_type": "code",
        "outputId": "3e7e5e0d-7827-4904-d7b1-48ae55792962",
        "colab": {
          "base_uri": "https://localhost:8080/",
          "height": 196
        }
      },
      "source": [
        "learn.freeze_to(-2)\n",
        "lr /= 2\n",
        "learn.fit_one_cycle(3, slice(lr/(2.6**4), lr), moms=moms, wd=wd,callbacks=[SaveModelCallback(learn, name=\"best_lm\")])"
      ],
      "execution_count": 209,
      "outputs": [
        {
          "output_type": "display_data",
          "data": {
            "text/html": [
              "<table border=\"1\" class=\"dataframe\">\n",
              "  <thead>\n",
              "    <tr style=\"text-align: left;\">\n",
              "      <th>epoch</th>\n",
              "      <th>train_loss</th>\n",
              "      <th>valid_loss</th>\n",
              "      <th>accuracy</th>\n",
              "      <th>time</th>\n",
              "    </tr>\n",
              "  </thead>\n",
              "  <tbody>\n",
              "    <tr>\n",
              "      <td>0</td>\n",
              "      <td>0.665708</td>\n",
              "      <td>0.526471</td>\n",
              "      <td>0.819365</td>\n",
              "      <td>00:14</td>\n",
              "    </tr>\n",
              "    <tr>\n",
              "      <td>1</td>\n",
              "      <td>0.557943</td>\n",
              "      <td>0.431438</td>\n",
              "      <td>0.842962</td>\n",
              "      <td>00:15</td>\n",
              "    </tr>\n",
              "    <tr>\n",
              "      <td>2</td>\n",
              "      <td>0.492568</td>\n",
              "      <td>0.406126</td>\n",
              "      <td>0.855167</td>\n",
              "      <td>00:14</td>\n",
              "    </tr>\n",
              "  </tbody>\n",
              "</table>"
            ],
            "text/plain": [
              "<IPython.core.display.HTML object>"
            ]
          },
          "metadata": {
            "tags": []
          }
        },
        {
          "output_type": "stream",
          "text": [
            "Better model found at epoch 0 with valid_loss value: 0.5264706015586853.\n",
            "Better model found at epoch 1 with valid_loss value: 0.4314376413822174.\n",
            "Better model found at epoch 2 with valid_loss value: 0.4061256945133209.\n"
          ],
          "name": "stdout"
        }
      ]
    },
    {
      "cell_type": "code",
      "metadata": {
        "id": "WLdSmASm5F9N",
        "colab_type": "code",
        "outputId": "a9ee21f4-f9d6-4466-9ed2-0f7a148bd0e1",
        "colab": {
          "base_uri": "https://localhost:8080/",
          "height": 196
        }
      },
      "source": [
        "learn.freeze_to(-3)\n",
        "lr /= 2\n",
        "learn.fit_one_cycle(3, slice(lr/(2.6**4), lr), moms=moms, wd=wd,callbacks=[SaveModelCallback(learn, name=\"best_lm1\")])"
      ],
      "execution_count": 210,
      "outputs": [
        {
          "output_type": "display_data",
          "data": {
            "text/html": [
              "<table border=\"1\" class=\"dataframe\">\n",
              "  <thead>\n",
              "    <tr style=\"text-align: left;\">\n",
              "      <th>epoch</th>\n",
              "      <th>train_loss</th>\n",
              "      <th>valid_loss</th>\n",
              "      <th>accuracy</th>\n",
              "      <th>time</th>\n",
              "    </tr>\n",
              "  </thead>\n",
              "  <tbody>\n",
              "    <tr>\n",
              "      <td>0</td>\n",
              "      <td>0.563459</td>\n",
              "      <td>0.425907</td>\n",
              "      <td>0.831570</td>\n",
              "      <td>00:16</td>\n",
              "    </tr>\n",
              "    <tr>\n",
              "      <td>1</td>\n",
              "      <td>0.516571</td>\n",
              "      <td>0.418956</td>\n",
              "      <td>0.847844</td>\n",
              "      <td>00:15</td>\n",
              "    </tr>\n",
              "    <tr>\n",
              "      <td>2</td>\n",
              "      <td>0.396473</td>\n",
              "      <td>0.372588</td>\n",
              "      <td>0.859235</td>\n",
              "      <td>00:15</td>\n",
              "    </tr>\n",
              "  </tbody>\n",
              "</table>"
            ],
            "text/plain": [
              "<IPython.core.display.HTML object>"
            ]
          },
          "metadata": {
            "tags": []
          }
        },
        {
          "output_type": "stream",
          "text": [
            "Better model found at epoch 0 with valid_loss value: 0.42590704560279846.\n",
            "Better model found at epoch 1 with valid_loss value: 0.4189563989639282.\n",
            "Better model found at epoch 2 with valid_loss value: 0.37258774042129517.\n"
          ],
          "name": "stdout"
        }
      ]
    },
    {
      "cell_type": "code",
      "metadata": {
        "id": "cKvH1cWO5HMI",
        "colab_type": "code",
        "colab": {}
      },
      "source": [
        "learn.unfreeze()"
      ],
      "execution_count": 0,
      "outputs": []
    },
    {
      "cell_type": "code",
      "metadata": {
        "id": "f9KbqsV55Jzd",
        "colab_type": "code",
        "outputId": "e541025e-c18f-4e0a-a78c-4ed56cd1f161",
        "colab": {
          "base_uri": "https://localhost:8080/",
          "height": 161
        }
      },
      "source": [
        "lr /= 5\n",
        "learn.fit_one_cycle(3, slice(lr/(2.6**4), lr), moms=moms, wd=wd,callbacks=[SaveModelCallback(learn, name=\"best_lm\")])"
      ],
      "execution_count": 212,
      "outputs": [
        {
          "output_type": "display_data",
          "data": {
            "text/html": [
              "<table border=\"1\" class=\"dataframe\">\n",
              "  <thead>\n",
              "    <tr style=\"text-align: left;\">\n",
              "      <th>epoch</th>\n",
              "      <th>train_loss</th>\n",
              "      <th>valid_loss</th>\n",
              "      <th>accuracy</th>\n",
              "      <th>time</th>\n",
              "    </tr>\n",
              "  </thead>\n",
              "  <tbody>\n",
              "    <tr>\n",
              "      <td>0</td>\n",
              "      <td>0.356071</td>\n",
              "      <td>0.368027</td>\n",
              "      <td>0.856794</td>\n",
              "      <td>00:16</td>\n",
              "    </tr>\n",
              "    <tr>\n",
              "      <td>1</td>\n",
              "      <td>0.314385</td>\n",
              "      <td>0.371326</td>\n",
              "      <td>0.860862</td>\n",
              "      <td>00:17</td>\n",
              "    </tr>\n",
              "    <tr>\n",
              "      <td>2</td>\n",
              "      <td>0.318010</td>\n",
              "      <td>0.378095</td>\n",
              "      <td>0.863303</td>\n",
              "      <td>00:16</td>\n",
              "    </tr>\n",
              "  </tbody>\n",
              "</table>"
            ],
            "text/plain": [
              "<IPython.core.display.HTML object>"
            ]
          },
          "metadata": {
            "tags": []
          }
        },
        {
          "output_type": "stream",
          "text": [
            "Better model found at epoch 0 with valid_loss value: 0.36802688241004944.\n"
          ],
          "name": "stdout"
        }
      ]
    },
    {
      "cell_type": "code",
      "metadata": {
        "id": "7OegJRiq7121",
        "colab_type": "code",
        "outputId": "1f2df529-07b6-45b3-dc3c-f8c3c2971c38",
        "colab": {
          "base_uri": "https://localhost:8080/",
          "height": 34
        }
      },
      "source": [
        "learn.predict('@united I love my seat.')"
      ],
      "execution_count": 213,
      "outputs": [
        {
          "output_type": "execute_result",
          "data": {
            "text/plain": [
              "(Category positive, tensor(2), tensor([0.0390, 0.2015, 0.7595]))"
            ]
          },
          "metadata": {
            "tags": []
          },
          "execution_count": 213
        }
      ]
    },
    {
      "cell_type": "markdown",
      "metadata": {
        "id": "u0x-uFfP9E2K",
        "colab_type": "text"
      },
      "source": [
        "Without clearing mis-labeled or ambiguous tweets, the sentence below was being labeled as negative."
      ]
    },
    {
      "cell_type": "code",
      "metadata": {
        "id": "mGxFBBKHtfpS",
        "colab_type": "code",
        "outputId": "96671ba9-f198-453a-d9dd-6d16b5424819",
        "colab": {
          "base_uri": "https://localhost:8080/",
          "height": 34
        }
      },
      "source": [
        "learn.predict('my seat is here')"
      ],
      "execution_count": 214,
      "outputs": [
        {
          "output_type": "execute_result",
          "data": {
            "text/plain": [
              "(Category neutral, tensor(1), tensor([0.3003, 0.6643, 0.0354]))"
            ]
          },
          "metadata": {
            "tags": []
          },
          "execution_count": 214
        }
      ]
    },
    {
      "cell_type": "code",
      "metadata": {
        "id": "lsMDOa9x5QgG",
        "colab_type": "code",
        "outputId": "0a59fcd4-a38b-4304-e4bd-2f6075449090",
        "colab": {
          "base_uri": "https://localhost:8080/",
          "height": 34
        }
      },
      "source": [
        "interp = TextClassificationInterpretation.from_learner(learn)\n",
        "acc = accuracy(interp.preds, interp.y_true)\n",
        "print('Accuracy: {0:.3f}'.format(acc))"
      ],
      "execution_count": 215,
      "outputs": [
        {
          "output_type": "display_data",
          "data": {
            "text/html": [
              ""
            ],
            "text/plain": [
              "<IPython.core.display.HTML object>"
            ]
          },
          "metadata": {
            "tags": []
          }
        },
        {
          "output_type": "stream",
          "text": [
            "Accuracy: 0.857\n"
          ],
          "name": "stdout"
        }
      ]
    },
    {
      "cell_type": "code",
      "metadata": {
        "id": "YWoAAP0K5Rek",
        "colab_type": "code",
        "outputId": "7e02609f-0350-485e-a3a0-2a52d542e843",
        "colab": {
          "base_uri": "https://localhost:8080/",
          "height": 328
        }
      },
      "source": [
        "interp.plot_confusion_matrix(normalize=True)\n",
        "plt.title('Classifation Confusion Matrix')"
      ],
      "execution_count": 216,
      "outputs": [
        {
          "output_type": "execute_result",
          "data": {
            "text/plain": [
              "Text(0.5, 1.0, 'Classifation Confusion Matrix')"
            ]
          },
          "metadata": {
            "tags": []
          },
          "execution_count": 216
        },
        {
          "output_type": "display_data",
          "data": {
            "image/png": "[encoded data removed]",
            "text/plain": [
              "<Figure size 432x288 with 1 Axes>"
            ]
          },
          "metadata": {
            "tags": []
          }
        }
      ]
    },
    {
      "cell_type": "code",
      "metadata": {
        "id": "RIVtBhIV5Xsk",
        "colab_type": "code",
        "outputId": "34176144-2b73-4e24-f54b-f9cd44012c62",
        "colab": {
          "base_uri": "https://localhost:8080/",
          "height": 380
        }
      },
      "source": [
        "interp.show_top_losses(10)"
      ],
      "execution_count": 217,
      "outputs": [
        {
          "output_type": "display_data",
          "data": {
            "text/html": [
              "<table border=\"1\" class=\"dataframe\">\n",
              "  <thead>\n",
              "    <tr style=\"text-align: right;\">\n",
              "      <th>Text</th>\n",
              "      <th>Prediction</th>\n",
              "      <th>Actual</th>\n",
              "      <th>Loss</th>\n",
              "      <th>Probability</th>\n",
              "    </tr>\n",
              "  </thead>\n",
              "  <tbody>\n",
              "    <tr>\n",
              "      <td>xxbos @airline @robertdwyer xxup aa does nt charge any fees to change award tickets as long as the origin , destination &amp; award type remains the same</td>\n",
              "      <td>neutral</td>\n",
              "      <td>positive</td>\n",
              "      <td>6.39</td>\n",
              "      <td>0.00</td>\n",
              "    </tr>\n",
              "    <tr>\n",
              "      <td>xxbos @airline the flight is n't that empty xxrep 4 . xxmaj is this rude or not ?</td>\n",
              "      <td>negative</td>\n",
              "      <td>neutral</td>\n",
              "      <td>5.10</td>\n",
              "      <td>0.01</td>\n",
              "    </tr>\n",
              "    <tr>\n",
              "      <td>xxbos @airline i might look into that . xxmaj my wife travels much more than i do . xxmaj could we both use the membership ?</td>\n",
              "      <td>neutral</td>\n",
              "      <td>positive</td>\n",
              "      <td>4.91</td>\n",
              "      <td>0.01</td>\n",
              "    </tr>\n",
              "    <tr>\n",
              "      <td>xxbos @airline xxmaj lisa j is amazing the guy not so much .</td>\n",
              "      <td>positive</td>\n",
              "      <td>neutral</td>\n",
              "      <td>4.90</td>\n",
              "      <td>0.01</td>\n",
              "    </tr>\n",
              "    <tr>\n",
              "      <td>xxbos @airline xxmaj believe me , i understand . xxmaj flight 2955 . xxmaj was originally booked for xxmaj sunday . xxmaj flight was xxmaj cancelled xxmaj flighted and rescheduled for today .</td>\n",
              "      <td>negative</td>\n",
              "      <td>positive</td>\n",
              "      <td>4.84</td>\n",
              "      <td>0.01</td>\n",
              "    </tr>\n",
              "    <tr>\n",
              "      <td>xxbos @airline i 'm flying with your competitor today , starts with an u and ends with xxup xxunk i will never make that mistake again . xxunk</td>\n",
              "      <td>negative</td>\n",
              "      <td>positive</td>\n",
              "      <td>4.81</td>\n",
              "      <td>0.01</td>\n",
              "    </tr>\n",
              "    <tr>\n",
              "      <td>xxbos @airline my xxup tsa precheck is n't showing up on my boarding pass for my flight tomorrow ... help ! ? usairways tsaprecheck</td>\n",
              "      <td>negative</td>\n",
              "      <td>neutral</td>\n",
              "      <td>4.58</td>\n",
              "      <td>0.01</td>\n",
              "    </tr>\n",
              "    <tr>\n",
              "      <td>xxbos @airline thanks . xxmaj bummer . xxmaj poor planning on my part . i assume the card in xxmaj passbook wo n't work either ?</td>\n",
              "      <td>negative</td>\n",
              "      <td>neutral</td>\n",
              "      <td>4.32</td>\n",
              "      <td>0.01</td>\n",
              "    </tr>\n",
              "    <tr>\n",
              "      <td>xxbos @jetblue many thanks , as always your employees are professional and courteous . xxmaj whenever i have the option , you are my go - to airlines .</td>\n",
              "      <td>positive</td>\n",
              "      <td>neutral</td>\n",
              "      <td>4.15</td>\n",
              "      <td>0.02</td>\n",
              "    </tr>\n",
              "    <tr>\n",
              "      <td>xxbos @airline i have such a love hate relationship with you . xxmaj some days you 're good , the others you are so terribly awful its xxunk</td>\n",
              "      <td>negative</td>\n",
              "      <td>neutral</td>\n",
              "      <td>4.02</td>\n",
              "      <td>0.02</td>\n",
              "    </tr>\n",
              "  </tbody>\n",
              "</table>"
            ],
            "text/plain": [
              "<IPython.core.display.HTML object>"
            ]
          },
          "metadata": {
            "tags": []
          }
        }
      ]
    },
    {
      "cell_type": "markdown",
      "metadata": {
        "id": "HrSMN6gy9PrE",
        "colab_type": "text"
      },
      "source": [
        "**From the sample above most tweets seem to have been predicted accurately and the actual label seems to be wrong.**\n",
        "\n",
        "From my perspective, the model only got the 5th, 6th and 8th wrong."
      ]
    },
    {
      "cell_type": "markdown",
      "metadata": {
        "id": "rqRK_0jZ_5Ui",
        "colab_type": "text"
      },
      "source": [
        "## Conclusion and possible improvements\n",
        "\n",
        "1. The model is able to reach an overall accuracy of 85.7 percent. \n",
        "2. The classifier's performance is the lowest for neutral tweets with only 0.64 percent correct labels. For positive labels, this goes up to 0.79.\n",
        "3. The data still seems to have some mis-labelled tweets which is further lowering the visible performance of the model.\n",
        "4. The model could be improved by including more data for positive and neutral tweets. In a practical scenario, I would have spent some time to relabel the wrongly labeled neutral and positive tweets since they were only a few hundred. That might have helped improve the model further. \n",
        "5. Tweets addressing two airlines with contrasting opinions for both could have been excluded from the dataset since they cannot be associated with a single label.\n",
        "6. As suggested in the ULMfit paper, a backwards language model and using an ensemble of a forward and a backward classifier might yeild better results. However, When I tried it with this problem, I did not see any significant improvement in the results. However, people who have artificially generated tweets for positive and neutral labels to create a balanced dataset seem to see an improvement in the classifier's accuracy."
      ]
    },
    {
      "cell_type": "code",
      "metadata": {
        "id": "MzbGOnoU_6M9",
        "colab_type": "code",
        "colab": {}
      },
      "source": [
        ""
      ],
      "execution_count": 0,
      "outputs": []
    }
  ]
}